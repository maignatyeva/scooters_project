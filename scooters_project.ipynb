{
 "cells": [
  {
   "cell_type": "markdown",
   "id": "7fcead4b-18ef-4968-9d76-a2bdbea67da6",
   "metadata": {},
   "source": [
    "# Исследование сервиса аренды самокатов"
   ]
  },
  {
   "cell_type": "markdown",
   "id": "59a0c84a-a613-44e3-99c3-a3992658fd48",
   "metadata": {},
   "source": [
    "В нашем распоряжении данные сервиса аренды самокатов о некоторых пользователях из нескольких городов, а также об их поездках. Проанализируем данные и проверим некоторые гипотезы, которые могут помочь бизнесу вырасти.\n",
    "\n",
    "План работы следующий:\n",
    "1. Загрузка данных\n",
    "2. Предобработка данных\n",
    "3. Исследовательский анализ данных\n",
    "4. Объединение данных\n",
    "5. Создание дополнительных датафреймов\n",
    "6. Подсчет выручки\n",
    "7. Проверка гипотез"
   ]
  },
  {
   "cell_type": "markdown",
   "id": "c6f618b8-43fa-46af-9704-5cce75f22586",
   "metadata": {
    "toc-hr-collapsed": true
   },
   "source": [
    "## Загрузка данных"
   ]
  },
  {
   "cell_type": "markdown",
   "id": "fd0d3612-fa79-43b4-a88f-e7e804fdafa5",
   "metadata": {},
   "source": [
    "Для начала импортируем нужные библиотеки."
   ]
  },
  {
   "cell_type": "code",
   "execution_count": 1,
   "id": "72576667",
   "metadata": {
    "tags": []
   },
   "outputs": [],
   "source": [
    "import pandas as pd\n",
    "import matplotlib.pyplot as plt\n",
    "import numpy as np\n",
    "from scipy import stats as st"
   ]
  },
  {
   "cell_type": "markdown",
   "id": "f1dba499-cfeb-4634-a747-53ee490cd1a9",
   "metadata": {},
   "source": [
    "Теперь сохраним данные в соответствующие переменные и изучим основную информацию о них."
   ]
  },
  {
   "cell_type": "markdown",
   "id": "4f8e1e2c-29aa-4585-bc64-a78f15e45d8a",
   "metadata": {},
   "source": [
    "### Пользователи"
   ]
  },
  {
   "cell_type": "code",
   "execution_count": 2,
   "id": "44b67ef6-a86e-46d4-8214-267d12d63c5a",
   "metadata": {},
   "outputs": [],
   "source": [
    "try:\n",
    "    users = pd.read_csv('/Users/macbook/practicum/projects/scooters_project/users_go.csv')\n",
    "except:\n",
    "    users = pd.read_csv('https://code.s3.yandex.net/datasets/users_go.csv')"
   ]
  },
  {
   "cell_type": "code",
   "execution_count": 3,
   "id": "97fca07a-bf7c-4b72-bde8-fbfa084ca7da",
   "metadata": {},
   "outputs": [
    {
     "name": "stdout",
     "output_type": "stream",
     "text": [
      "<class 'pandas.core.frame.DataFrame'>\n",
      "RangeIndex: 1565 entries, 0 to 1564\n",
      "Data columns (total 5 columns):\n",
      " #   Column             Non-Null Count  Dtype \n",
      "---  ------             --------------  ----- \n",
      " 0   user_id            1565 non-null   int64 \n",
      " 1   name               1565 non-null   object\n",
      " 2   age                1565 non-null   int64 \n",
      " 3   city               1565 non-null   object\n",
      " 4   subscription_type  1565 non-null   object\n",
      "dtypes: int64(2), object(3)\n",
      "memory usage: 61.3+ KB\n"
     ]
    }
   ],
   "source": [
    "users.info()"
   ]
  },
  {
   "cell_type": "code",
   "execution_count": 4,
   "id": "3064993a-497d-4803-8f0e-e74899ab2630",
   "metadata": {},
   "outputs": [
    {
     "data": {
      "text/html": [
       "<div>\n",
       "<style scoped>\n",
       "    .dataframe tbody tr th:only-of-type {\n",
       "        vertical-align: middle;\n",
       "    }\n",
       "\n",
       "    .dataframe tbody tr th {\n",
       "        vertical-align: top;\n",
       "    }\n",
       "\n",
       "    .dataframe thead th {\n",
       "        text-align: right;\n",
       "    }\n",
       "</style>\n",
       "<table border=\"1\" class=\"dataframe\">\n",
       "  <thead>\n",
       "    <tr style=\"text-align: right;\">\n",
       "      <th></th>\n",
       "      <th>user_id</th>\n",
       "      <th>name</th>\n",
       "      <th>age</th>\n",
       "      <th>city</th>\n",
       "      <th>subscription_type</th>\n",
       "    </tr>\n",
       "  </thead>\n",
       "  <tbody>\n",
       "    <tr>\n",
       "      <th>0</th>\n",
       "      <td>1</td>\n",
       "      <td>Кира</td>\n",
       "      <td>22</td>\n",
       "      <td>Тюмень</td>\n",
       "      <td>ultra</td>\n",
       "    </tr>\n",
       "    <tr>\n",
       "      <th>1</th>\n",
       "      <td>2</td>\n",
       "      <td>Станислав</td>\n",
       "      <td>31</td>\n",
       "      <td>Омск</td>\n",
       "      <td>ultra</td>\n",
       "    </tr>\n",
       "    <tr>\n",
       "      <th>2</th>\n",
       "      <td>3</td>\n",
       "      <td>Алексей</td>\n",
       "      <td>20</td>\n",
       "      <td>Москва</td>\n",
       "      <td>ultra</td>\n",
       "    </tr>\n",
       "    <tr>\n",
       "      <th>3</th>\n",
       "      <td>4</td>\n",
       "      <td>Константин</td>\n",
       "      <td>26</td>\n",
       "      <td>Ростов-на-Дону</td>\n",
       "      <td>ultra</td>\n",
       "    </tr>\n",
       "    <tr>\n",
       "      <th>4</th>\n",
       "      <td>5</td>\n",
       "      <td>Адель</td>\n",
       "      <td>28</td>\n",
       "      <td>Омск</td>\n",
       "      <td>ultra</td>\n",
       "    </tr>\n",
       "    <tr>\n",
       "      <th>5</th>\n",
       "      <td>6</td>\n",
       "      <td>Регина</td>\n",
       "      <td>25</td>\n",
       "      <td>Краснодар</td>\n",
       "      <td>ultra</td>\n",
       "    </tr>\n",
       "    <tr>\n",
       "      <th>6</th>\n",
       "      <td>7</td>\n",
       "      <td>Игорь</td>\n",
       "      <td>23</td>\n",
       "      <td>Омск</td>\n",
       "      <td>ultra</td>\n",
       "    </tr>\n",
       "    <tr>\n",
       "      <th>7</th>\n",
       "      <td>8</td>\n",
       "      <td>Юрий</td>\n",
       "      <td>23</td>\n",
       "      <td>Краснодар</td>\n",
       "      <td>ultra</td>\n",
       "    </tr>\n",
       "    <tr>\n",
       "      <th>8</th>\n",
       "      <td>9</td>\n",
       "      <td>Ян</td>\n",
       "      <td>21</td>\n",
       "      <td>Пятигорск</td>\n",
       "      <td>ultra</td>\n",
       "    </tr>\n",
       "    <tr>\n",
       "      <th>9</th>\n",
       "      <td>10</td>\n",
       "      <td>Валерий</td>\n",
       "      <td>18</td>\n",
       "      <td>Екатеринбург</td>\n",
       "      <td>ultra</td>\n",
       "    </tr>\n",
       "  </tbody>\n",
       "</table>\n",
       "</div>"
      ],
      "text/plain": [
       "   user_id        name  age            city subscription_type\n",
       "0        1        Кира   22          Тюмень             ultra\n",
       "1        2   Станислав   31            Омск             ultra\n",
       "2        3     Алексей   20          Москва             ultra\n",
       "3        4  Константин   26  Ростов-на-Дону             ultra\n",
       "4        5       Адель   28            Омск             ultra\n",
       "5        6      Регина   25       Краснодар             ultra\n",
       "6        7       Игорь   23            Омск             ultra\n",
       "7        8        Юрий   23       Краснодар             ultra\n",
       "8        9          Ян   21       Пятигорск             ultra\n",
       "9       10     Валерий   18    Екатеринбург             ultra"
      ]
     },
     "execution_count": 4,
     "metadata": {},
     "output_type": "execute_result"
    }
   ],
   "source": [
    "users.head(10)"
   ]
  },
  {
   "cell_type": "markdown",
   "id": "28041b08-8c10-42d1-879c-5d781afc1c40",
   "metadata": {},
   "source": [
    "Датафрейм содержит информацию о более чем полутора тысячах пользователей.\n",
    "\n",
    "Согласно документации к данным столбцы содержат следующие данные:\n",
    "* `user_id` - уникальный идентификатор пользователя\n",
    "* `name` - имя пользователя\n",
    "* `age` - возраст\n",
    "* `city` - город\n",
    "* `subscription_type` - тип подписки (free, ultra)"
   ]
  },
  {
   "cell_type": "markdown",
   "id": "ebbf9ea9-8da8-442c-95fb-9d044db130c1",
   "metadata": {},
   "source": [
    "### Поездки"
   ]
  },
  {
   "cell_type": "code",
   "execution_count": 5,
   "id": "44878388-3b91-4754-9351-18715afd1086",
   "metadata": {},
   "outputs": [],
   "source": [
    "try:\n",
    "    rides = pd.read_csv('/Users/macbook/practicum/projects/scooters_project/rides_go.csv')\n",
    "except:\n",
    "    rides = pd.read_csv('https://code.s3.yandex.net/datasets/rides_go.csv')"
   ]
  },
  {
   "cell_type": "code",
   "execution_count": 6,
   "id": "0f929d0e-8ff5-42b3-a5a3-13156e2b6b4a",
   "metadata": {},
   "outputs": [
    {
     "name": "stdout",
     "output_type": "stream",
     "text": [
      "<class 'pandas.core.frame.DataFrame'>\n",
      "RangeIndex: 18068 entries, 0 to 18067\n",
      "Data columns (total 4 columns):\n",
      " #   Column    Non-Null Count  Dtype  \n",
      "---  ------    --------------  -----  \n",
      " 0   user_id   18068 non-null  int64  \n",
      " 1   distance  18068 non-null  float64\n",
      " 2   duration  18068 non-null  float64\n",
      " 3   date      18068 non-null  object \n",
      "dtypes: float64(2), int64(1), object(1)\n",
      "memory usage: 564.8+ KB\n"
     ]
    }
   ],
   "source": [
    "rides.info()"
   ]
  },
  {
   "cell_type": "code",
   "execution_count": 7,
   "id": "eff9f206",
   "metadata": {},
   "outputs": [
    {
     "data": {
      "text/html": [
       "<div>\n",
       "<style scoped>\n",
       "    .dataframe tbody tr th:only-of-type {\n",
       "        vertical-align: middle;\n",
       "    }\n",
       "\n",
       "    .dataframe tbody tr th {\n",
       "        vertical-align: top;\n",
       "    }\n",
       "\n",
       "    .dataframe thead th {\n",
       "        text-align: right;\n",
       "    }\n",
       "</style>\n",
       "<table border=\"1\" class=\"dataframe\">\n",
       "  <thead>\n",
       "    <tr style=\"text-align: right;\">\n",
       "      <th></th>\n",
       "      <th>user_id</th>\n",
       "      <th>distance</th>\n",
       "      <th>duration</th>\n",
       "      <th>date</th>\n",
       "    </tr>\n",
       "  </thead>\n",
       "  <tbody>\n",
       "    <tr>\n",
       "      <th>0</th>\n",
       "      <td>1</td>\n",
       "      <td>4409.919140</td>\n",
       "      <td>25.599769</td>\n",
       "      <td>2021-01-01</td>\n",
       "    </tr>\n",
       "    <tr>\n",
       "      <th>1</th>\n",
       "      <td>1</td>\n",
       "      <td>2617.592153</td>\n",
       "      <td>15.816871</td>\n",
       "      <td>2021-01-18</td>\n",
       "    </tr>\n",
       "    <tr>\n",
       "      <th>2</th>\n",
       "      <td>1</td>\n",
       "      <td>754.159807</td>\n",
       "      <td>6.232113</td>\n",
       "      <td>2021-04-20</td>\n",
       "    </tr>\n",
       "    <tr>\n",
       "      <th>3</th>\n",
       "      <td>1</td>\n",
       "      <td>2694.783254</td>\n",
       "      <td>18.511000</td>\n",
       "      <td>2021-08-11</td>\n",
       "    </tr>\n",
       "    <tr>\n",
       "      <th>4</th>\n",
       "      <td>1</td>\n",
       "      <td>4028.687306</td>\n",
       "      <td>26.265803</td>\n",
       "      <td>2021-08-28</td>\n",
       "    </tr>\n",
       "    <tr>\n",
       "      <th>5</th>\n",
       "      <td>1</td>\n",
       "      <td>2770.890808</td>\n",
       "      <td>16.650138</td>\n",
       "      <td>2021-10-09</td>\n",
       "    </tr>\n",
       "    <tr>\n",
       "      <th>6</th>\n",
       "      <td>1</td>\n",
       "      <td>3039.020292</td>\n",
       "      <td>14.927879</td>\n",
       "      <td>2021-10-19</td>\n",
       "    </tr>\n",
       "    <tr>\n",
       "      <th>7</th>\n",
       "      <td>1</td>\n",
       "      <td>2842.118050</td>\n",
       "      <td>23.117468</td>\n",
       "      <td>2021-11-06</td>\n",
       "    </tr>\n",
       "    <tr>\n",
       "      <th>8</th>\n",
       "      <td>1</td>\n",
       "      <td>3412.690668</td>\n",
       "      <td>15.238072</td>\n",
       "      <td>2021-11-14</td>\n",
       "    </tr>\n",
       "    <tr>\n",
       "      <th>9</th>\n",
       "      <td>1</td>\n",
       "      <td>748.690645</td>\n",
       "      <td>15.041884</td>\n",
       "      <td>2021-11-22</td>\n",
       "    </tr>\n",
       "  </tbody>\n",
       "</table>\n",
       "</div>"
      ],
      "text/plain": [
       "   user_id     distance   duration        date\n",
       "0        1  4409.919140  25.599769  2021-01-01\n",
       "1        1  2617.592153  15.816871  2021-01-18\n",
       "2        1   754.159807   6.232113  2021-04-20\n",
       "3        1  2694.783254  18.511000  2021-08-11\n",
       "4        1  4028.687306  26.265803  2021-08-28\n",
       "5        1  2770.890808  16.650138  2021-10-09\n",
       "6        1  3039.020292  14.927879  2021-10-19\n",
       "7        1  2842.118050  23.117468  2021-11-06\n",
       "8        1  3412.690668  15.238072  2021-11-14\n",
       "9        1   748.690645  15.041884  2021-11-22"
      ]
     },
     "execution_count": 7,
     "metadata": {},
     "output_type": "execute_result"
    }
   ],
   "source": [
    "rides.head(10)"
   ]
  },
  {
   "cell_type": "markdown",
   "id": "21c031f3-a7c1-42e4-ae1e-3243492f4928",
   "metadata": {},
   "source": [
    "Датафрейм содержит информацию о восемнадцати тысячах поездок.\n",
    "\n",
    "Согласно документации к данным столбцы содержат следующие данные:\n",
    "* `user_id` - уникальный идентификатор пользователя\n",
    "* `distance` - расстояние, которое пользователь проехал в текущей сессии (в метрах)\n",
    "* `duration` - продолжительность сессии (в минутах)\n",
    "* `date` - дата совершения поездки"
   ]
  },
  {
   "cell_type": "markdown",
   "id": "b5b584ce-5043-4ecf-abe9-0e86ef1619fb",
   "metadata": {},
   "source": [
    "### Подписки"
   ]
  },
  {
   "cell_type": "code",
   "execution_count": 8,
   "id": "5d7d80bd-464b-4c46-be94-0bbc0f67ee6a",
   "metadata": {},
   "outputs": [],
   "source": [
    "try:\n",
    "    subscriptions = pd.read_csv('/Users/macbook/practicum/projects/scooters_project/subscriptions_go.csv')\n",
    "except:\n",
    "    subscriptions = pd.read_csv('https://code.s3.yandex.net/datasets/subscriptions_go.csv')"
   ]
  },
  {
   "cell_type": "code",
   "execution_count": 9,
   "id": "26433705-8aaf-42f3-8af7-e422cf1d4c83",
   "metadata": {
    "tags": []
   },
   "outputs": [
    {
     "name": "stdout",
     "output_type": "stream",
     "text": [
      "<class 'pandas.core.frame.DataFrame'>\n",
      "RangeIndex: 2 entries, 0 to 1\n",
      "Data columns (total 4 columns):\n",
      " #   Column             Non-Null Count  Dtype \n",
      "---  ------             --------------  ----- \n",
      " 0   subscription_type  2 non-null      object\n",
      " 1   minute_price       2 non-null      int64 \n",
      " 2   start_ride_price   2 non-null      int64 \n",
      " 3   subscription_fee   2 non-null      int64 \n",
      "dtypes: int64(3), object(1)\n",
      "memory usage: 192.0+ bytes\n"
     ]
    }
   ],
   "source": [
    "subscriptions.info()"
   ]
  },
  {
   "cell_type": "code",
   "execution_count": 10,
   "id": "bb7c3187-eecf-4309-90c5-3584c9ae9fea",
   "metadata": {},
   "outputs": [
    {
     "data": {
      "text/html": [
       "<div>\n",
       "<style scoped>\n",
       "    .dataframe tbody tr th:only-of-type {\n",
       "        vertical-align: middle;\n",
       "    }\n",
       "\n",
       "    .dataframe tbody tr th {\n",
       "        vertical-align: top;\n",
       "    }\n",
       "\n",
       "    .dataframe thead th {\n",
       "        text-align: right;\n",
       "    }\n",
       "</style>\n",
       "<table border=\"1\" class=\"dataframe\">\n",
       "  <thead>\n",
       "    <tr style=\"text-align: right;\">\n",
       "      <th></th>\n",
       "      <th>subscription_type</th>\n",
       "      <th>minute_price</th>\n",
       "      <th>start_ride_price</th>\n",
       "      <th>subscription_fee</th>\n",
       "    </tr>\n",
       "  </thead>\n",
       "  <tbody>\n",
       "    <tr>\n",
       "      <th>0</th>\n",
       "      <td>free</td>\n",
       "      <td>8</td>\n",
       "      <td>50</td>\n",
       "      <td>0</td>\n",
       "    </tr>\n",
       "    <tr>\n",
       "      <th>1</th>\n",
       "      <td>ultra</td>\n",
       "      <td>6</td>\n",
       "      <td>0</td>\n",
       "      <td>199</td>\n",
       "    </tr>\n",
       "  </tbody>\n",
       "</table>\n",
       "</div>"
      ],
      "text/plain": [
       "  subscription_type  minute_price  start_ride_price  subscription_fee\n",
       "0              free             8                50                 0\n",
       "1             ultra             6                 0               199"
      ]
     },
     "execution_count": 10,
     "metadata": {},
     "output_type": "execute_result"
    }
   ],
   "source": [
    "subscriptions"
   ]
  },
  {
   "cell_type": "markdown",
   "id": "1888bb54-c66d-4e6a-8d94-82304822ddc7",
   "metadata": {},
   "source": [
    "Датафрейм содержит информацию о двух типах подписки.\n",
    "\n",
    "Согласно документации к данным столбцы содержат следующие данные:\n",
    "* `subscription_type` - тип подписки\n",
    "* `minute_price` - стоимость одной минуты поездки по данной подписке\n",
    "* `start_ride_price` - стоимость начала поездки\n",
    "* `subscription_fee` - стоимость ежемесячного платежа"
   ]
  },
  {
   "cell_type": "markdown",
   "id": "e95ebca7",
   "metadata": {},
   "source": [
    "## Предобработка данных"
   ]
  },
  {
   "cell_type": "markdown",
   "id": "5e00c9b4-f4ae-42fd-8bc3-934916427ced",
   "metadata": {},
   "source": [
    "### Изменение типов данных"
   ]
  },
  {
   "cell_type": "markdown",
   "id": "13f71719-2fff-4bcd-977e-db41b1743247",
   "metadata": {},
   "source": [
    "Приведем данные к соотвествующему типу.\n",
    "\n",
    "В датафрейме Поездки в столбце `date` тип данных необходимо заменить на `datetime`."
   ]
  },
  {
   "cell_type": "code",
   "execution_count": 11,
   "id": "58793ba5-fc4a-4db4-aeff-932ae4fcb5ac",
   "metadata": {},
   "outputs": [],
   "source": [
    "rides['date'] = pd.to_datetime(rides['date'], format='%Y.%m.%d')"
   ]
  },
  {
   "cell_type": "markdown",
   "id": "b33f84c1-bb99-455d-a62a-6a53b91bbe35",
   "metadata": {},
   "source": [
    "Убедимся в том, что тип данных изменился на нужный."
   ]
  },
  {
   "cell_type": "code",
   "execution_count": 12,
   "id": "0516ed19-bc97-4d91-9a86-c5fb79f84117",
   "metadata": {},
   "outputs": [
    {
     "data": {
      "text/plain": [
       "'datetime64[ns]'"
      ]
     },
     "execution_count": 12,
     "metadata": {},
     "output_type": "execute_result"
    }
   ],
   "source": [
    "rides['date'].dtype.name"
   ]
  },
  {
   "cell_type": "markdown",
   "id": "ada1c401-71c2-4853-8db9-e9b39192de99",
   "metadata": {},
   "source": [
    "### Добавление столбцов"
   ]
  },
  {
   "cell_type": "markdown",
   "id": "531d32c2-84b9-45a3-8649-aaec1a873b57",
   "metadata": {},
   "source": [
    "Проверим, за какой период предоставлены данные в датафрейме Поездки."
   ]
  },
  {
   "cell_type": "code",
   "execution_count": 13,
   "id": "f3104496-b22d-4966-831a-a8843583dac3",
   "metadata": {},
   "outputs": [
    {
     "data": {
      "text/plain": [
       "Timestamp('2021-01-01 00:00:00')"
      ]
     },
     "execution_count": 13,
     "metadata": {},
     "output_type": "execute_result"
    }
   ],
   "source": [
    "rides['date'].min()"
   ]
  },
  {
   "cell_type": "code",
   "execution_count": 14,
   "id": "0fa79253-4f15-4ff1-a936-9bc24db81d8d",
   "metadata": {},
   "outputs": [
    {
     "data": {
      "text/plain": [
       "Timestamp('2021-12-30 00:00:00')"
      ]
     },
     "execution_count": 14,
     "metadata": {},
     "output_type": "execute_result"
    }
   ],
   "source": [
    "rides['date'].max()"
   ]
  },
  {
   "cell_type": "markdown",
   "id": "2a8daa75-b248-443f-98c4-9b761f7283d3",
   "metadata": {},
   "source": [
    "Данные предоставлены за один год - 2021 - поэтому мы сможем добавить столбец с дополнительной информацией о месяце поездки, не рискуя склеить данные за несколько лет."
   ]
  },
  {
   "cell_type": "code",
   "execution_count": 15,
   "id": "cd16f5c6-7051-4399-b1a9-7d1ac2083f91",
   "metadata": {},
   "outputs": [],
   "source": [
    "rides['month'] = rides['date'].dt.month"
   ]
  },
  {
   "cell_type": "markdown",
   "id": "1c28cd54-899e-4e14-8bc0-3c517e2ef6c2",
   "metadata": {},
   "source": [
    "Проведем проверку того, что новый столбец корректно отображает месяц поездки."
   ]
  },
  {
   "cell_type": "code",
   "execution_count": 16,
   "id": "48e30a41-6d11-47c8-ac3b-d29bed6b2d0c",
   "metadata": {},
   "outputs": [
    {
     "data": {
      "text/html": [
       "<div>\n",
       "<style scoped>\n",
       "    .dataframe tbody tr th:only-of-type {\n",
       "        vertical-align: middle;\n",
       "    }\n",
       "\n",
       "    .dataframe tbody tr th {\n",
       "        vertical-align: top;\n",
       "    }\n",
       "\n",
       "    .dataframe thead th {\n",
       "        text-align: right;\n",
       "    }\n",
       "</style>\n",
       "<table border=\"1\" class=\"dataframe\">\n",
       "  <thead>\n",
       "    <tr style=\"text-align: right;\">\n",
       "      <th></th>\n",
       "      <th>user_id</th>\n",
       "      <th>distance</th>\n",
       "      <th>duration</th>\n",
       "      <th>date</th>\n",
       "      <th>month</th>\n",
       "    </tr>\n",
       "  </thead>\n",
       "  <tbody>\n",
       "    <tr>\n",
       "      <th>9012</th>\n",
       "      <td>887</td>\n",
       "      <td>2183.841102</td>\n",
       "      <td>19.955930</td>\n",
       "      <td>2021-10-15</td>\n",
       "      <td>10</td>\n",
       "    </tr>\n",
       "    <tr>\n",
       "      <th>533</th>\n",
       "      <td>59</td>\n",
       "      <td>3016.002849</td>\n",
       "      <td>17.867834</td>\n",
       "      <td>2021-08-16</td>\n",
       "      <td>8</td>\n",
       "    </tr>\n",
       "    <tr>\n",
       "      <th>11771</th>\n",
       "      <td>1085</td>\n",
       "      <td>4341.870514</td>\n",
       "      <td>24.324249</td>\n",
       "      <td>2021-06-07</td>\n",
       "      <td>6</td>\n",
       "    </tr>\n",
       "    <tr>\n",
       "      <th>15090</th>\n",
       "      <td>1322</td>\n",
       "      <td>2545.884406</td>\n",
       "      <td>15.910933</td>\n",
       "      <td>2021-08-15</td>\n",
       "      <td>8</td>\n",
       "    </tr>\n",
       "    <tr>\n",
       "      <th>16875</th>\n",
       "      <td>1449</td>\n",
       "      <td>3614.930193</td>\n",
       "      <td>23.459721</td>\n",
       "      <td>2021-08-05</td>\n",
       "      <td>8</td>\n",
       "    </tr>\n",
       "  </tbody>\n",
       "</table>\n",
       "</div>"
      ],
      "text/plain": [
       "       user_id     distance   duration       date  month\n",
       "9012       887  2183.841102  19.955930 2021-10-15     10\n",
       "533         59  3016.002849  17.867834 2021-08-16      8\n",
       "11771     1085  4341.870514  24.324249 2021-06-07      6\n",
       "15090     1322  2545.884406  15.910933 2021-08-15      8\n",
       "16875     1449  3614.930193  23.459721 2021-08-05      8"
      ]
     },
     "execution_count": 16,
     "metadata": {},
     "output_type": "execute_result"
    }
   ],
   "source": [
    "rides.sample(5)"
   ]
  },
  {
   "cell_type": "markdown",
   "id": "6743f476-598b-4f38-bb72-b513213915ea",
   "metadata": {},
   "source": [
    "### Работа с пропусками"
   ]
  },
  {
   "cell_type": "markdown",
   "id": "7fee6564-1a8a-4bdc-a687-8c1981816543",
   "metadata": {},
   "source": [
    "Проверим, есть ли пропуски в датафреймах."
   ]
  },
  {
   "cell_type": "code",
   "execution_count": 17,
   "id": "4145334c-7df7-40fb-81e3-89ead7a3e318",
   "metadata": {},
   "outputs": [
    {
     "data": {
      "text/plain": [
       "user_id              0\n",
       "name                 0\n",
       "age                  0\n",
       "city                 0\n",
       "subscription_type    0\n",
       "dtype: int64"
      ]
     },
     "execution_count": 17,
     "metadata": {},
     "output_type": "execute_result"
    }
   ],
   "source": [
    "users.isna().sum()"
   ]
  },
  {
   "cell_type": "code",
   "execution_count": 18,
   "id": "62bcf4f1-b2cf-414f-90cb-9ad0ed629402",
   "metadata": {},
   "outputs": [
    {
     "data": {
      "text/plain": [
       "user_id     0\n",
       "distance    0\n",
       "duration    0\n",
       "date        0\n",
       "month       0\n",
       "dtype: int64"
      ]
     },
     "execution_count": 18,
     "metadata": {},
     "output_type": "execute_result"
    }
   ],
   "source": [
    "rides.isna().sum()"
   ]
  },
  {
   "cell_type": "code",
   "execution_count": 19,
   "id": "7c4b3837-5449-4f0c-b528-e5a9b628e43c",
   "metadata": {},
   "outputs": [
    {
     "data": {
      "text/plain": [
       "subscription_type    0\n",
       "minute_price         0\n",
       "start_ride_price     0\n",
       "subscription_fee     0\n",
       "dtype: int64"
      ]
     },
     "execution_count": 19,
     "metadata": {},
     "output_type": "execute_result"
    }
   ],
   "source": [
    "subscriptions.isna().sum()"
   ]
  },
  {
   "cell_type": "markdown",
   "id": "3e9c6fce-e04d-4cc8-a0b6-73193d6695ca",
   "metadata": {},
   "source": [
    "Проверка показала, что пропущенных значений в датафреймах нет."
   ]
  },
  {
   "cell_type": "markdown",
   "id": "3bd06b5b-07a9-4ce6-a52e-8a47f5d51ebc",
   "metadata": {},
   "source": [
    "### Обработка дубликатов"
   ]
  },
  {
   "cell_type": "markdown",
   "id": "a486458d-89e5-4fde-b83f-f35017401bd7",
   "metadata": {},
   "source": [
    "Проверим датафреймы на наличие дубликатов."
   ]
  },
  {
   "cell_type": "code",
   "execution_count": 20,
   "id": "ce905a86-51b5-4c88-b701-fdf76dc3ce3b",
   "metadata": {},
   "outputs": [
    {
     "data": {
      "text/plain": [
       "31"
      ]
     },
     "execution_count": 20,
     "metadata": {},
     "output_type": "execute_result"
    }
   ],
   "source": [
    "users.duplicated().sum()"
   ]
  },
  {
   "cell_type": "code",
   "execution_count": 21,
   "id": "123968db-18a2-4a0e-8e90-fa8ef433007e",
   "metadata": {},
   "outputs": [
    {
     "data": {
      "text/plain": [
       "0"
      ]
     },
     "execution_count": 21,
     "metadata": {},
     "output_type": "execute_result"
    }
   ],
   "source": [
    "rides.duplicated().sum()"
   ]
  },
  {
   "cell_type": "code",
   "execution_count": 22,
   "id": "2551e518-dd4d-4791-b4a2-da81b28bacc8",
   "metadata": {},
   "outputs": [
    {
     "data": {
      "text/plain": [
       "0"
      ]
     },
     "execution_count": 22,
     "metadata": {},
     "output_type": "execute_result"
    }
   ],
   "source": [
    "subscriptions.duplicated().sum()"
   ]
  },
  {
   "cell_type": "markdown",
   "id": "f7281781-1065-4091-a113-4046dc2ddb51",
   "metadata": {},
   "source": [
    "В датафрейме Пользователи есть 31 дубликат. Это небольшое количество по сравнению с размером датафрейма, поэтому мы просто удалим эти дубликаты."
   ]
  },
  {
   "cell_type": "code",
   "execution_count": 23,
   "id": "81663f92-5806-4ddf-a3e4-9346567c5c94",
   "metadata": {},
   "outputs": [],
   "source": [
    "users = users.drop_duplicates()"
   ]
  },
  {
   "cell_type": "markdown",
   "id": "212593c7",
   "metadata": {},
   "source": [
    "## Исследовательский анализ данных"
   ]
  },
  {
   "cell_type": "markdown",
   "id": "34bd5f32-8473-455f-9aae-5702fc050453",
   "metadata": {},
   "source": [
    "Проанализируем информацию в датафреймах."
   ]
  },
  {
   "cell_type": "markdown",
   "id": "6f0d5b28-438d-47bd-ad23-f972492b0b10",
   "metadata": {},
   "source": [
    "### Частота встречаемости городов"
   ]
  },
  {
   "cell_type": "code",
   "execution_count": 24,
   "id": "3031862a-2876-4f47-ac9e-34aefd0da233",
   "metadata": {},
   "outputs": [
    {
     "data": {
      "text/plain": [
       "Пятигорск         219\n",
       "Екатеринбург      204\n",
       "Ростов-на-Дону    198\n",
       "Краснодар         193\n",
       "Сочи              189\n",
       "Омск              183\n",
       "Тюмень            180\n",
       "Москва            168\n",
       "Name: city, dtype: int64"
      ]
     },
     "execution_count": 24,
     "metadata": {},
     "output_type": "execute_result"
    }
   ],
   "source": [
    "users['city'].value_counts()"
   ]
  },
  {
   "cell_type": "code",
   "execution_count": 25,
   "id": "b771eb1a-f900-4c06-bf61-dc10a9d0dd70",
   "metadata": {},
   "outputs": [
    {
     "data": {
      "image/png": "[encoded data removed]",
      "text/plain": [
       "<Figure size 720x360 with 1 Axes>"
      ]
     },
     "metadata": {
      "needs_background": "light"
     },
     "output_type": "display_data"
    }
   ],
   "source": [
    "users['city'].value_counts().plot(kind='barh', figsize=(10,5))\n",
    "plt.title('Частота встречаемости городов')\n",
    "plt.xlabel('Частота')\n",
    "plt.ylabel('Город')\n",
    "plt.show()"
   ]
  },
  {
   "cell_type": "markdown",
   "id": "8e88cadf-bb70-446c-bdf1-1ef2e8bc5203",
   "metadata": {},
   "source": [
    "Из приведенных выше данных и графика можно сделать вывод о том, что в датафрейме распределение пользователей по городам достаточно равномерное.\n",
    "\n",
    "Больше всего пользователей в Пятигорске - 219 человек, а меньше всего в Москве - 168."
   ]
  },
  {
   "cell_type": "markdown",
   "id": "6ddd5b08-7da7-41d3-8377-d7f1e404c617",
   "metadata": {},
   "source": [
    "### Соотношение пользователей с подпиской и без подписки"
   ]
  },
  {
   "cell_type": "code",
   "execution_count": 26,
   "id": "526bc339-4a41-47a3-a686-1ca4a6bf25da",
   "metadata": {},
   "outputs": [
    {
     "data": {
      "text/plain": [
       "free     835\n",
       "ultra    699\n",
       "Name: subscription_type, dtype: int64"
      ]
     },
     "execution_count": 26,
     "metadata": {},
     "output_type": "execute_result"
    }
   ],
   "source": [
    "users['subscription_type'].value_counts()"
   ]
  },
  {
   "cell_type": "code",
   "execution_count": 27,
   "id": "c36d7dcb-320f-4d77-ac1b-93faac353e89",
   "metadata": {},
   "outputs": [
    {
     "data": {
      "image/png": "[encoded data removed]",
      "text/plain": [
       "<Figure size 360x360 with 1 Axes>"
      ]
     },
     "metadata": {},
     "output_type": "display_data"
    }
   ],
   "source": [
    "users['subscription_type'].value_counts().plot(y='subscription_type', kind='pie', figsize=(5,5), autopct = \"%.f%%\")\n",
    "plt.title('Соотношение пользователей с подпиской и без подписки')\n",
    "plt.ylabel('Тип подписки')\n",
    "plt.show()"
   ]
  },
  {
   "cell_type": "markdown",
   "id": "4e64e14d-5d78-4585-a8b9-97145a9f6a48",
   "metadata": {},
   "source": [
    "Исходя из приведенных выше данных и графика можно прийти к выводу о том, что большинство пользователей пользуются сервисом без подписки.\n",
    "\n",
    "При этом разница в поцентном соотношении между пользователями с подпиской и без небольшая - 46% против 54%, соответственно."
   ]
  },
  {
   "cell_type": "markdown",
   "id": "070a467a-5d18-40ae-9adf-861e26b01700",
   "metadata": {},
   "source": [
    "### Распределение возраста пользователей"
   ]
  },
  {
   "cell_type": "code",
   "execution_count": 28,
   "id": "6f498d2d-78a5-48f3-af41-f2fb91daf589",
   "metadata": {},
   "outputs": [
    {
     "data": {
      "image/png": "[encoded data removed]",
      "text/plain": [
       "<Figure size 720x360 with 1 Axes>"
      ]
     },
     "metadata": {
      "needs_background": "light"
     },
     "output_type": "display_data"
    }
   ],
   "source": [
    "users['age'].plot(kind='hist', bins=30, figsize=(10,5))\n",
    "plt.title('Распределение возраста пользователей')\n",
    "plt.xlabel('Возраст')\n",
    "plt.ylabel('Частота')\n",
    "plt.show()"
   ]
  },
  {
   "cell_type": "markdown",
   "id": "ad94b8a8-3db4-45d1-abd8-54744014a188",
   "metadata": {},
   "source": [
    "На основе графика выше можно сделать вывод о том, распределение возраста пользователей напоминает нормальное и что большая часть пользователей находится в возрасте от 20 до 30 лет, а пользователй старше 40 лет практически нет."
   ]
  },
  {
   "cell_type": "markdown",
   "id": "6be72ac1-b141-4f44-b0fb-36a1280bc071",
   "metadata": {},
   "source": [
    "### Расстояние, которое пользователь преодолел за одну поездку"
   ]
  },
  {
   "cell_type": "code",
   "execution_count": 29,
   "id": "5b675c20-6701-4405-bb2a-c600cdf7788e",
   "metadata": {},
   "outputs": [
    {
     "data": {
      "image/png": "[encoded data removed]",
      "text/plain": [
       "<Figure size 720x360 with 1 Axes>"
      ]
     },
     "metadata": {
      "needs_background": "light"
     },
     "output_type": "display_data"
    }
   ],
   "source": [
    "rides['distance'].plot(kind='hist', bins=100, figsize=(10,5))\n",
    "plt.title('Распределение расстояния, которое пользователь преодолел за одну поездку')\n",
    "plt.xlabel('Расстояние, м')\n",
    "plt.ylabel('Частота')\n",
    "plt.show()"
   ]
  },
  {
   "cell_type": "markdown",
   "id": "33fa4088-cb8b-4c1e-b5cf-7f6761742b65",
   "metadata": {},
   "source": [
    "Из графика можно заключить, что распределение расстояния, которое пользователь преодолел за одну поездку, напоминает нормальное и что пользователи совершают поездки в основном от двух до четырех километров."
   ]
  },
  {
   "cell_type": "markdown",
   "id": "7781955e-51be-4d03-ba22-3754a6f3a50a",
   "metadata": {},
   "source": [
    "### Продолжительность поездок"
   ]
  },
  {
   "cell_type": "code",
   "execution_count": 30,
   "id": "b9799ead-230b-4f7e-89a6-71b7258dbee1",
   "metadata": {},
   "outputs": [
    {
     "data": {
      "image/png": "[encoded data removed]",
      "text/plain": [
       "<Figure size 720x360 with 1 Axes>"
      ]
     },
     "metadata": {
      "needs_background": "light"
     },
     "output_type": "display_data"
    }
   ],
   "source": [
    "rides['duration'].plot(kind='hist', bins=100, figsize=(10,5))\n",
    "plt.title('Распределение продолжительности поездок')\n",
    "plt.xlabel('Продолжительность сессии, мин.')\n",
    "plt.ylabel('Частота')\n",
    "plt.show()"
   ]
  },
  {
   "cell_type": "markdown",
   "id": "0089c1d3-d70b-40c0-be98-9a7afa291f39",
   "metadata": {},
   "source": [
    "На основе графика можно сделать вывод о том, распределение продолжительности поездок напоминает нормальное и что зачастую поездки длятся от 10 до 30 минут."
   ]
  },
  {
   "cell_type": "markdown",
   "id": "4ef51331",
   "metadata": {},
   "source": [
    "## Объединение данных"
   ]
  },
  {
   "cell_type": "markdown",
   "id": "4fe12500-13f5-411e-9eaa-c87164a90ca5",
   "metadata": {},
   "source": [
    "После того, как мы изучили данные и их качество, мы можем объединить датафреймы в один."
   ]
  },
  {
   "cell_type": "code",
   "execution_count": 31,
   "id": "c5293e3f-5ab9-4828-9ec2-a43ede1f7396",
   "metadata": {},
   "outputs": [],
   "source": [
    "data = rides.merge(users, on='user_id')"
   ]
  },
  {
   "cell_type": "code",
   "execution_count": 32,
   "id": "eb717c71-9de7-4c04-beb4-79445c6d2051",
   "metadata": {},
   "outputs": [],
   "source": [
    "data = data.merge(subscriptions, on='subscription_type')"
   ]
  },
  {
   "cell_type": "markdown",
   "id": "dfec66a8-8201-4733-acdd-a5d0728ca956",
   "metadata": {},
   "source": [
    "Проверим данные и основные характеристики итого датафрейма."
   ]
  },
  {
   "cell_type": "code",
   "execution_count": 33,
   "id": "2e316ab2-c2cb-4c91-8a83-4297c8bb5a10",
   "metadata": {},
   "outputs": [
    {
     "data": {
      "text/html": [
       "<div>\n",
       "<style scoped>\n",
       "    .dataframe tbody tr th:only-of-type {\n",
       "        vertical-align: middle;\n",
       "    }\n",
       "\n",
       "    .dataframe tbody tr th {\n",
       "        vertical-align: top;\n",
       "    }\n",
       "\n",
       "    .dataframe thead th {\n",
       "        text-align: right;\n",
       "    }\n",
       "</style>\n",
       "<table border=\"1\" class=\"dataframe\">\n",
       "  <thead>\n",
       "    <tr style=\"text-align: right;\">\n",
       "      <th></th>\n",
       "      <th>user_id</th>\n",
       "      <th>distance</th>\n",
       "      <th>duration</th>\n",
       "      <th>date</th>\n",
       "      <th>month</th>\n",
       "      <th>name</th>\n",
       "      <th>age</th>\n",
       "      <th>city</th>\n",
       "      <th>subscription_type</th>\n",
       "      <th>minute_price</th>\n",
       "      <th>start_ride_price</th>\n",
       "      <th>subscription_fee</th>\n",
       "    </tr>\n",
       "  </thead>\n",
       "  <tbody>\n",
       "    <tr>\n",
       "      <th>5472</th>\n",
       "      <td>584</td>\n",
       "      <td>4064.070502</td>\n",
       "      <td>30.320353</td>\n",
       "      <td>2021-07-05</td>\n",
       "      <td>7</td>\n",
       "      <td>Ольга</td>\n",
       "      <td>27</td>\n",
       "      <td>Краснодар</td>\n",
       "      <td>ultra</td>\n",
       "      <td>6</td>\n",
       "      <td>0</td>\n",
       "      <td>199</td>\n",
       "    </tr>\n",
       "    <tr>\n",
       "      <th>16524</th>\n",
       "      <td>1424</td>\n",
       "      <td>3279.255941</td>\n",
       "      <td>21.287235</td>\n",
       "      <td>2021-05-04</td>\n",
       "      <td>5</td>\n",
       "      <td>Артур</td>\n",
       "      <td>29</td>\n",
       "      <td>Ростов-на-Дону</td>\n",
       "      <td>free</td>\n",
       "      <td>8</td>\n",
       "      <td>50</td>\n",
       "      <td>0</td>\n",
       "    </tr>\n",
       "    <tr>\n",
       "      <th>17217</th>\n",
       "      <td>1475</td>\n",
       "      <td>4233.949768</td>\n",
       "      <td>21.161479</td>\n",
       "      <td>2021-02-23</td>\n",
       "      <td>2</td>\n",
       "      <td>Артём</td>\n",
       "      <td>17</td>\n",
       "      <td>Тюмень</td>\n",
       "      <td>free</td>\n",
       "      <td>8</td>\n",
       "      <td>50</td>\n",
       "      <td>0</td>\n",
       "    </tr>\n",
       "    <tr>\n",
       "      <th>2227</th>\n",
       "      <td>238</td>\n",
       "      <td>2808.382448</td>\n",
       "      <td>26.041912</td>\n",
       "      <td>2021-08-20</td>\n",
       "      <td>8</td>\n",
       "      <td>Валентина</td>\n",
       "      <td>17</td>\n",
       "      <td>Пятигорск</td>\n",
       "      <td>ultra</td>\n",
       "      <td>6</td>\n",
       "      <td>0</td>\n",
       "      <td>199</td>\n",
       "    </tr>\n",
       "    <tr>\n",
       "      <th>4989</th>\n",
       "      <td>537</td>\n",
       "      <td>4075.110443</td>\n",
       "      <td>20.187776</td>\n",
       "      <td>2021-03-22</td>\n",
       "      <td>3</td>\n",
       "      <td>Гордей</td>\n",
       "      <td>23</td>\n",
       "      <td>Сочи</td>\n",
       "      <td>ultra</td>\n",
       "      <td>6</td>\n",
       "      <td>0</td>\n",
       "      <td>199</td>\n",
       "    </tr>\n",
       "  </tbody>\n",
       "</table>\n",
       "</div>"
      ],
      "text/plain": [
       "       user_id     distance   duration       date  month       name  age  \\\n",
       "5472       584  4064.070502  30.320353 2021-07-05      7      Ольга   27   \n",
       "16524     1424  3279.255941  21.287235 2021-05-04      5      Артур   29   \n",
       "17217     1475  4233.949768  21.161479 2021-02-23      2      Артём   17   \n",
       "2227       238  2808.382448  26.041912 2021-08-20      8  Валентина   17   \n",
       "4989       537  4075.110443  20.187776 2021-03-22      3     Гордей   23   \n",
       "\n",
       "                 city subscription_type  minute_price  start_ride_price  \\\n",
       "5472        Краснодар             ultra             6                 0   \n",
       "16524  Ростов-на-Дону              free             8                50   \n",
       "17217          Тюмень              free             8                50   \n",
       "2227        Пятигорск             ultra             6                 0   \n",
       "4989             Сочи             ultra             6                 0   \n",
       "\n",
       "       subscription_fee  \n",
       "5472                199  \n",
       "16524                 0  \n",
       "17217                 0  \n",
       "2227                199  \n",
       "4989                199  "
      ]
     },
     "execution_count": 33,
     "metadata": {},
     "output_type": "execute_result"
    }
   ],
   "source": [
    "data.sample(5)"
   ]
  },
  {
   "cell_type": "code",
   "execution_count": 34,
   "id": "f34d920c-272d-4b4c-bf0e-dc5349a5839c",
   "metadata": {},
   "outputs": [
    {
     "data": {
      "text/plain": [
       "user_id              0\n",
       "distance             0\n",
       "duration             0\n",
       "date                 0\n",
       "month                0\n",
       "name                 0\n",
       "age                  0\n",
       "city                 0\n",
       "subscription_type    0\n",
       "minute_price         0\n",
       "start_ride_price     0\n",
       "subscription_fee     0\n",
       "dtype: int64"
      ]
     },
     "execution_count": 34,
     "metadata": {},
     "output_type": "execute_result"
    }
   ],
   "source": [
    "data.isna().sum()"
   ]
  },
  {
   "cell_type": "code",
   "execution_count": 35,
   "id": "51440d1f-5379-418a-9f5e-e1c350c03683",
   "metadata": {},
   "outputs": [
    {
     "data": {
      "text/plain": [
       "(18068, 12)"
      ]
     },
     "execution_count": 35,
     "metadata": {},
     "output_type": "execute_result"
    }
   ],
   "source": [
    "data.shape"
   ]
  },
  {
   "cell_type": "markdown",
   "id": "c24cc106-e47c-4886-b8f9-9f58a96aca8b",
   "metadata": {},
   "source": [
    "Объединение данных прошло успешно. Анализ пропусков выявил их отсутствие - для каждой строки в одном датафрейме нашлось соотвествие в двух других датафреймах. А исследование размерности получившегося датафрейма указываает на то, что никакие строки не были утерены в процессе объединения. "
   ]
  },
  {
   "cell_type": "markdown",
   "id": "e525aac0-b867-4344-91e9-796026c7cd4e",
   "metadata": {},
   "source": [
    "##  Создание дополнительных датафреймов"
   ]
  },
  {
   "cell_type": "markdown",
   "id": "ec57baba-8c7b-46fc-bc01-75a95672978c",
   "metadata": {},
   "source": [
    "Из объединенных выделим два датафрейма:\n",
    "* c данными о пользователях без подписки"
   ]
  },
  {
   "cell_type": "code",
   "execution_count": 36,
   "id": "7d5afae6-5bb7-41fa-8812-c09e9cf8499f",
   "metadata": {},
   "outputs": [
    {
     "data": {
      "text/html": [
       "<div>\n",
       "<style scoped>\n",
       "    .dataframe tbody tr th:only-of-type {\n",
       "        vertical-align: middle;\n",
       "    }\n",
       "\n",
       "    .dataframe tbody tr th {\n",
       "        vertical-align: top;\n",
       "    }\n",
       "\n",
       "    .dataframe thead th {\n",
       "        text-align: right;\n",
       "    }\n",
       "</style>\n",
       "<table border=\"1\" class=\"dataframe\">\n",
       "  <thead>\n",
       "    <tr style=\"text-align: right;\">\n",
       "      <th></th>\n",
       "      <th>user_id</th>\n",
       "      <th>distance</th>\n",
       "      <th>duration</th>\n",
       "      <th>date</th>\n",
       "      <th>month</th>\n",
       "      <th>name</th>\n",
       "      <th>age</th>\n",
       "      <th>city</th>\n",
       "      <th>subscription_type</th>\n",
       "      <th>minute_price</th>\n",
       "      <th>start_ride_price</th>\n",
       "      <th>subscription_fee</th>\n",
       "    </tr>\n",
       "  </thead>\n",
       "  <tbody>\n",
       "    <tr>\n",
       "      <th>13037</th>\n",
       "      <td>1178</td>\n",
       "      <td>3131.913078</td>\n",
       "      <td>22.422485</td>\n",
       "      <td>2021-11-10</td>\n",
       "      <td>11</td>\n",
       "      <td>Николай</td>\n",
       "      <td>25</td>\n",
       "      <td>Сочи</td>\n",
       "      <td>free</td>\n",
       "      <td>8</td>\n",
       "      <td>50</td>\n",
       "      <td>0</td>\n",
       "    </tr>\n",
       "    <tr>\n",
       "      <th>7189</th>\n",
       "      <td>747</td>\n",
       "      <td>2287.014807</td>\n",
       "      <td>10.861044</td>\n",
       "      <td>2021-06-03</td>\n",
       "      <td>6</td>\n",
       "      <td>Адель</td>\n",
       "      <td>25</td>\n",
       "      <td>Екатеринбург</td>\n",
       "      <td>free</td>\n",
       "      <td>8</td>\n",
       "      <td>50</td>\n",
       "      <td>0</td>\n",
       "    </tr>\n",
       "    <tr>\n",
       "      <th>12913</th>\n",
       "      <td>1168</td>\n",
       "      <td>2121.174505</td>\n",
       "      <td>18.605873</td>\n",
       "      <td>2021-06-29</td>\n",
       "      <td>6</td>\n",
       "      <td>Назар</td>\n",
       "      <td>27</td>\n",
       "      <td>Краснодар</td>\n",
       "      <td>free</td>\n",
       "      <td>8</td>\n",
       "      <td>50</td>\n",
       "      <td>0</td>\n",
       "    </tr>\n",
       "    <tr>\n",
       "      <th>12759</th>\n",
       "      <td>1158</td>\n",
       "      <td>475.038325</td>\n",
       "      <td>14.500121</td>\n",
       "      <td>2021-07-31</td>\n",
       "      <td>7</td>\n",
       "      <td>Снежана</td>\n",
       "      <td>27</td>\n",
       "      <td>Сочи</td>\n",
       "      <td>free</td>\n",
       "      <td>8</td>\n",
       "      <td>50</td>\n",
       "      <td>0</td>\n",
       "    </tr>\n",
       "    <tr>\n",
       "      <th>16098</th>\n",
       "      <td>1396</td>\n",
       "      <td>4968.694281</td>\n",
       "      <td>23.647202</td>\n",
       "      <td>2021-05-10</td>\n",
       "      <td>5</td>\n",
       "      <td>Георгий</td>\n",
       "      <td>24</td>\n",
       "      <td>Краснодар</td>\n",
       "      <td>free</td>\n",
       "      <td>8</td>\n",
       "      <td>50</td>\n",
       "      <td>0</td>\n",
       "    </tr>\n",
       "  </tbody>\n",
       "</table>\n",
       "</div>"
      ],
      "text/plain": [
       "       user_id     distance   duration       date  month     name  age  \\\n",
       "13037     1178  3131.913078  22.422485 2021-11-10     11  Николай   25   \n",
       "7189       747  2287.014807  10.861044 2021-06-03      6    Адель   25   \n",
       "12913     1168  2121.174505  18.605873 2021-06-29      6    Назар   27   \n",
       "12759     1158   475.038325  14.500121 2021-07-31      7  Снежана   27   \n",
       "16098     1396  4968.694281  23.647202 2021-05-10      5  Георгий   24   \n",
       "\n",
       "               city subscription_type  minute_price  start_ride_price  \\\n",
       "13037          Сочи              free             8                50   \n",
       "7189   Екатеринбург              free             8                50   \n",
       "12913     Краснодар              free             8                50   \n",
       "12759          Сочи              free             8                50   \n",
       "16098     Краснодар              free             8                50   \n",
       "\n",
       "       subscription_fee  \n",
       "13037                 0  \n",
       "7189                  0  \n",
       "12913                 0  \n",
       "12759                 0  \n",
       "16098                 0  "
      ]
     },
     "execution_count": 36,
     "metadata": {},
     "output_type": "execute_result"
    }
   ],
   "source": [
    "without_subscription = data.query('subscription_type == \"free\"')\n",
    "without_subscription.sample(5)"
   ]
  },
  {
   "cell_type": "markdown",
   "id": "393938c8-b809-42bc-9722-0b080a6a6ffd",
   "metadata": {},
   "source": [
    "* с данными о пользователях с подпиской"
   ]
  },
  {
   "cell_type": "code",
   "execution_count": 37,
   "id": "f277e1e7-85ae-4f1b-aa78-19c3b5157d3b",
   "metadata": {},
   "outputs": [
    {
     "data": {
      "text/html": [
       "<div>\n",
       "<style scoped>\n",
       "    .dataframe tbody tr th:only-of-type {\n",
       "        vertical-align: middle;\n",
       "    }\n",
       "\n",
       "    .dataframe tbody tr th {\n",
       "        vertical-align: top;\n",
       "    }\n",
       "\n",
       "    .dataframe thead th {\n",
       "        text-align: right;\n",
       "    }\n",
       "</style>\n",
       "<table border=\"1\" class=\"dataframe\">\n",
       "  <thead>\n",
       "    <tr style=\"text-align: right;\">\n",
       "      <th></th>\n",
       "      <th>user_id</th>\n",
       "      <th>distance</th>\n",
       "      <th>duration</th>\n",
       "      <th>date</th>\n",
       "      <th>month</th>\n",
       "      <th>name</th>\n",
       "      <th>age</th>\n",
       "      <th>city</th>\n",
       "      <th>subscription_type</th>\n",
       "      <th>minute_price</th>\n",
       "      <th>start_ride_price</th>\n",
       "      <th>subscription_fee</th>\n",
       "    </tr>\n",
       "  </thead>\n",
       "  <tbody>\n",
       "    <tr>\n",
       "      <th>3148</th>\n",
       "      <td>340</td>\n",
       "      <td>2898.511330</td>\n",
       "      <td>23.810062</td>\n",
       "      <td>2021-02-24</td>\n",
       "      <td>2</td>\n",
       "      <td>Ева</td>\n",
       "      <td>33</td>\n",
       "      <td>Тюмень</td>\n",
       "      <td>ultra</td>\n",
       "      <td>6</td>\n",
       "      <td>0</td>\n",
       "      <td>199</td>\n",
       "    </tr>\n",
       "    <tr>\n",
       "      <th>4220</th>\n",
       "      <td>455</td>\n",
       "      <td>2437.505348</td>\n",
       "      <td>15.187527</td>\n",
       "      <td>2021-07-06</td>\n",
       "      <td>7</td>\n",
       "      <td>Виталина</td>\n",
       "      <td>15</td>\n",
       "      <td>Ростов-на-Дону</td>\n",
       "      <td>ultra</td>\n",
       "      <td>6</td>\n",
       "      <td>0</td>\n",
       "      <td>199</td>\n",
       "    </tr>\n",
       "    <tr>\n",
       "      <th>242</th>\n",
       "      <td>25</td>\n",
       "      <td>3530.046587</td>\n",
       "      <td>28.292523</td>\n",
       "      <td>2021-12-29</td>\n",
       "      <td>12</td>\n",
       "      <td>Ростислав</td>\n",
       "      <td>26</td>\n",
       "      <td>Ростов-на-Дону</td>\n",
       "      <td>ultra</td>\n",
       "      <td>6</td>\n",
       "      <td>0</td>\n",
       "      <td>199</td>\n",
       "    </tr>\n",
       "    <tr>\n",
       "      <th>5887</th>\n",
       "      <td>627</td>\n",
       "      <td>2990.457303</td>\n",
       "      <td>19.187153</td>\n",
       "      <td>2021-03-31</td>\n",
       "      <td>3</td>\n",
       "      <td>Платон</td>\n",
       "      <td>20</td>\n",
       "      <td>Омск</td>\n",
       "      <td>ultra</td>\n",
       "      <td>6</td>\n",
       "      <td>0</td>\n",
       "      <td>199</td>\n",
       "    </tr>\n",
       "    <tr>\n",
       "      <th>4051</th>\n",
       "      <td>436</td>\n",
       "      <td>3427.711715</td>\n",
       "      <td>20.569279</td>\n",
       "      <td>2021-06-26</td>\n",
       "      <td>6</td>\n",
       "      <td>Вероника</td>\n",
       "      <td>31</td>\n",
       "      <td>Омск</td>\n",
       "      <td>ultra</td>\n",
       "      <td>6</td>\n",
       "      <td>0</td>\n",
       "      <td>199</td>\n",
       "    </tr>\n",
       "  </tbody>\n",
       "</table>\n",
       "</div>"
      ],
      "text/plain": [
       "      user_id     distance   duration       date  month       name  age  \\\n",
       "3148      340  2898.511330  23.810062 2021-02-24      2        Ева   33   \n",
       "4220      455  2437.505348  15.187527 2021-07-06      7   Виталина   15   \n",
       "242        25  3530.046587  28.292523 2021-12-29     12  Ростислав   26   \n",
       "5887      627  2990.457303  19.187153 2021-03-31      3     Платон   20   \n",
       "4051      436  3427.711715  20.569279 2021-06-26      6   Вероника   31   \n",
       "\n",
       "                city subscription_type  minute_price  start_ride_price  \\\n",
       "3148          Тюмень             ultra             6                 0   \n",
       "4220  Ростов-на-Дону             ultra             6                 0   \n",
       "242   Ростов-на-Дону             ultra             6                 0   \n",
       "5887            Омск             ultra             6                 0   \n",
       "4051            Омск             ultra             6                 0   \n",
       "\n",
       "      subscription_fee  \n",
       "3148               199  \n",
       "4220               199  \n",
       "242                199  \n",
       "5887               199  \n",
       "4051               199  "
      ]
     },
     "execution_count": 37,
     "metadata": {},
     "output_type": "execute_result"
    }
   ],
   "source": [
    "with_subscription = data.query('subscription_type == \"ultra\"')\n",
    "with_subscription.sample(5)"
   ]
  },
  {
   "cell_type": "markdown",
   "id": "6908d044-2db4-42f8-a88e-67408df0a85b",
   "metadata": {},
   "source": [
    "Для наглядности визуализируем информацию о расстоянии и времени поездок для пользователей обеих категорий."
   ]
  },
  {
   "cell_type": "code",
   "execution_count": 38,
   "id": "05d192f8-bf21-44ed-86f1-27a41027c5d8",
   "metadata": {},
   "outputs": [
    {
     "data": {
      "image/png": "[encoded data removed]",
      "text/plain": [
       "<Figure size 720x360 with 1 Axes>"
      ]
     },
     "metadata": {
      "needs_background": "light"
     },
     "output_type": "display_data"
    }
   ],
   "source": [
    "plt.figure(figsize=[10, 5])\n",
    "\n",
    "without_subscription['distance'].plot(kind='hist', bins=100, label='Пользователи без подписки')\n",
    "with_subscription['distance'].plot(kind='hist', bins=100, label='Пользователи с подпиской')\n",
    "\n",
    "\n",
    "plt.title('Распределение расстояния, которое пользователь преодолел за одну поездку')\n",
    "plt.xlabel('Расстояние, м')\n",
    "plt.ylabel('Частота')\n",
    "plt.legend()\n",
    "\n",
    "plt.show()"
   ]
  },
  {
   "cell_type": "markdown",
   "id": "1db5ef2e-b7c6-48fe-96eb-a359734ee9a8",
   "metadata": {},
   "source": [
    "Из приведенных выше графиков можно сделать вывод о том, что поездки у пользователей без подписки в среднем такие же по расстоянию, как и у пользователей с подпиской.\n",
    "\n",
    "Однако можно заметить, что пользователи без подписки совершают более разнообразные по расстоянию поездки, чем пользователи с подпиской."
   ]
  },
  {
   "cell_type": "code",
   "execution_count": 39,
   "id": "4f9acb63-a951-416c-bb5f-3b4cd3f321ab",
   "metadata": {},
   "outputs": [
    {
     "data": {
      "image/png": "[encoded data removed]",
      "text/plain": [
       "<Figure size 720x360 with 1 Axes>"
      ]
     },
     "metadata": {
      "needs_background": "light"
     },
     "output_type": "display_data"
    }
   ],
   "source": [
    "plt.figure(figsize=[10, 5])\n",
    "\n",
    "without_subscription['duration'].plot(kind='hist', bins=100, label='Пользователи без подписки')\n",
    "with_subscription['duration'].plot(kind='hist', bins=100, label='Пользователи с подпиской')\n",
    "\n",
    "plt.title('Распределение времени поездки')\n",
    "plt.xlabel('Расстояние, м')\n",
    "plt.ylabel('Частота')\n",
    "plt.legend()\n",
    "\n",
    "plt.show()"
   ]
  },
  {
   "cell_type": "markdown",
   "id": "4f5c59a4-1de0-4fed-adab-ae523cfd3c89",
   "metadata": {},
   "source": [
    "Из приведенных выше графиков можно сделать вывод о том, что поездки у пользователей без подписки в среднем длятся столько же, сколько у пользователей с подпиской.\n",
    "\n",
    "Тем не менее, распределение времени поездки у пользователей без подписки обладает большим разбросом.\n",
    "\n",
    "Также на графике пользователей без подписки можно увидеть резкий рост числа поездок длительностью менее минуты. Это может быть связано с тем, что пользователи приняли решение отказаться от аренды самоката и завершить поездку."
   ]
  },
  {
   "cell_type": "markdown",
   "id": "402d620f",
   "metadata": {},
   "source": [
    "## Подсчёт выручки"
   ]
  },
  {
   "cell_type": "markdown",
   "id": "4422d1cb-81f2-4ffa-b6b8-dc65ae0825a1",
   "metadata": {},
   "source": [
    "Сгруппируем данные о поездках и найдем суммарное расстояние, количество поездок и суммарное время для каждого пользователя за каждый месяц."
   ]
  },
  {
   "cell_type": "code",
   "execution_count": 40,
   "id": "3dbf58c7-3fcf-42c4-9208-9184ff1824e9",
   "metadata": {},
   "outputs": [
    {
     "data": {
      "text/html": [
       "<div>\n",
       "<style scoped>\n",
       "    .dataframe tbody tr th:only-of-type {\n",
       "        vertical-align: middle;\n",
       "    }\n",
       "\n",
       "    .dataframe tbody tr th {\n",
       "        vertical-align: top;\n",
       "    }\n",
       "\n",
       "    .dataframe thead th {\n",
       "        text-align: right;\n",
       "    }\n",
       "</style>\n",
       "<table border=\"1\" class=\"dataframe\">\n",
       "  <thead>\n",
       "    <tr style=\"text-align: right;\">\n",
       "      <th></th>\n",
       "      <th>user_id</th>\n",
       "      <th>month</th>\n",
       "      <th>total_distance</th>\n",
       "      <th>n_of_rides</th>\n",
       "      <th>total_duration</th>\n",
       "      <th>subscription_type</th>\n",
       "      <th>minute_price</th>\n",
       "      <th>start_ride_price</th>\n",
       "      <th>subscription_fee</th>\n",
       "    </tr>\n",
       "  </thead>\n",
       "  <tbody>\n",
       "    <tr>\n",
       "      <th>0</th>\n",
       "      <td>1</td>\n",
       "      <td>1</td>\n",
       "      <td>7027.511294</td>\n",
       "      <td>2</td>\n",
       "      <td>42.0</td>\n",
       "      <td>ultra</td>\n",
       "      <td>6</td>\n",
       "      <td>0</td>\n",
       "      <td>199</td>\n",
       "    </tr>\n",
       "    <tr>\n",
       "      <th>1</th>\n",
       "      <td>1</td>\n",
       "      <td>4</td>\n",
       "      <td>754.159807</td>\n",
       "      <td>1</td>\n",
       "      <td>7.0</td>\n",
       "      <td>ultra</td>\n",
       "      <td>6</td>\n",
       "      <td>0</td>\n",
       "      <td>199</td>\n",
       "    </tr>\n",
       "    <tr>\n",
       "      <th>2</th>\n",
       "      <td>1</td>\n",
       "      <td>8</td>\n",
       "      <td>6723.470560</td>\n",
       "      <td>2</td>\n",
       "      <td>46.0</td>\n",
       "      <td>ultra</td>\n",
       "      <td>6</td>\n",
       "      <td>0</td>\n",
       "      <td>199</td>\n",
       "    </tr>\n",
       "    <tr>\n",
       "      <th>3</th>\n",
       "      <td>1</td>\n",
       "      <td>10</td>\n",
       "      <td>5809.911100</td>\n",
       "      <td>2</td>\n",
       "      <td>32.0</td>\n",
       "      <td>ultra</td>\n",
       "      <td>6</td>\n",
       "      <td>0</td>\n",
       "      <td>199</td>\n",
       "    </tr>\n",
       "    <tr>\n",
       "      <th>4</th>\n",
       "      <td>1</td>\n",
       "      <td>11</td>\n",
       "      <td>7003.499363</td>\n",
       "      <td>3</td>\n",
       "      <td>56.0</td>\n",
       "      <td>ultra</td>\n",
       "      <td>6</td>\n",
       "      <td>0</td>\n",
       "      <td>199</td>\n",
       "    </tr>\n",
       "    <tr>\n",
       "      <th>5</th>\n",
       "      <td>1</td>\n",
       "      <td>12</td>\n",
       "      <td>6751.629942</td>\n",
       "      <td>2</td>\n",
       "      <td>28.0</td>\n",
       "      <td>ultra</td>\n",
       "      <td>6</td>\n",
       "      <td>0</td>\n",
       "      <td>199</td>\n",
       "    </tr>\n",
       "    <tr>\n",
       "      <th>6</th>\n",
       "      <td>2</td>\n",
       "      <td>3</td>\n",
       "      <td>10187.723006</td>\n",
       "      <td>3</td>\n",
       "      <td>63.0</td>\n",
       "      <td>ultra</td>\n",
       "      <td>6</td>\n",
       "      <td>0</td>\n",
       "      <td>199</td>\n",
       "    </tr>\n",
       "    <tr>\n",
       "      <th>7</th>\n",
       "      <td>2</td>\n",
       "      <td>4</td>\n",
       "      <td>6164.381824</td>\n",
       "      <td>2</td>\n",
       "      <td>40.0</td>\n",
       "      <td>ultra</td>\n",
       "      <td>6</td>\n",
       "      <td>0</td>\n",
       "      <td>199</td>\n",
       "    </tr>\n",
       "    <tr>\n",
       "      <th>8</th>\n",
       "      <td>2</td>\n",
       "      <td>6</td>\n",
       "      <td>3255.338202</td>\n",
       "      <td>1</td>\n",
       "      <td>14.0</td>\n",
       "      <td>ultra</td>\n",
       "      <td>6</td>\n",
       "      <td>0</td>\n",
       "      <td>199</td>\n",
       "    </tr>\n",
       "    <tr>\n",
       "      <th>9</th>\n",
       "      <td>2</td>\n",
       "      <td>7</td>\n",
       "      <td>6780.722964</td>\n",
       "      <td>2</td>\n",
       "      <td>48.0</td>\n",
       "      <td>ultra</td>\n",
       "      <td>6</td>\n",
       "      <td>0</td>\n",
       "      <td>199</td>\n",
       "    </tr>\n",
       "    <tr>\n",
       "      <th>10</th>\n",
       "      <td>2</td>\n",
       "      <td>8</td>\n",
       "      <td>923.007439</td>\n",
       "      <td>1</td>\n",
       "      <td>7.0</td>\n",
       "      <td>ultra</td>\n",
       "      <td>6</td>\n",
       "      <td>0</td>\n",
       "      <td>199</td>\n",
       "    </tr>\n",
       "    <tr>\n",
       "      <th>11</th>\n",
       "      <td>2</td>\n",
       "      <td>10</td>\n",
       "      <td>2824.636598</td>\n",
       "      <td>1</td>\n",
       "      <td>19.0</td>\n",
       "      <td>ultra</td>\n",
       "      <td>6</td>\n",
       "      <td>0</td>\n",
       "      <td>199</td>\n",
       "    </tr>\n",
       "    <tr>\n",
       "      <th>12</th>\n",
       "      <td>2</td>\n",
       "      <td>12</td>\n",
       "      <td>3828.248580</td>\n",
       "      <td>1</td>\n",
       "      <td>12.0</td>\n",
       "      <td>ultra</td>\n",
       "      <td>6</td>\n",
       "      <td>0</td>\n",
       "      <td>199</td>\n",
       "    </tr>\n",
       "    <tr>\n",
       "      <th>13</th>\n",
       "      <td>3</td>\n",
       "      <td>1</td>\n",
       "      <td>3061.777147</td>\n",
       "      <td>1</td>\n",
       "      <td>13.0</td>\n",
       "      <td>ultra</td>\n",
       "      <td>6</td>\n",
       "      <td>0</td>\n",
       "      <td>199</td>\n",
       "    </tr>\n",
       "    <tr>\n",
       "      <th>14</th>\n",
       "      <td>3</td>\n",
       "      <td>2</td>\n",
       "      <td>5421.152016</td>\n",
       "      <td>2</td>\n",
       "      <td>39.0</td>\n",
       "      <td>ultra</td>\n",
       "      <td>6</td>\n",
       "      <td>0</td>\n",
       "      <td>199</td>\n",
       "    </tr>\n",
       "    <tr>\n",
       "      <th>15</th>\n",
       "      <td>3</td>\n",
       "      <td>4</td>\n",
       "      <td>2956.651632</td>\n",
       "      <td>1</td>\n",
       "      <td>21.0</td>\n",
       "      <td>ultra</td>\n",
       "      <td>6</td>\n",
       "      <td>0</td>\n",
       "      <td>199</td>\n",
       "    </tr>\n",
       "    <tr>\n",
       "      <th>16</th>\n",
       "      <td>3</td>\n",
       "      <td>5</td>\n",
       "      <td>9064.026918</td>\n",
       "      <td>3</td>\n",
       "      <td>63.0</td>\n",
       "      <td>ultra</td>\n",
       "      <td>6</td>\n",
       "      <td>0</td>\n",
       "      <td>199</td>\n",
       "    </tr>\n",
       "    <tr>\n",
       "      <th>17</th>\n",
       "      <td>3</td>\n",
       "      <td>7</td>\n",
       "      <td>10919.595403</td>\n",
       "      <td>3</td>\n",
       "      <td>67.0</td>\n",
       "      <td>ultra</td>\n",
       "      <td>6</td>\n",
       "      <td>0</td>\n",
       "      <td>199</td>\n",
       "    </tr>\n",
       "    <tr>\n",
       "      <th>18</th>\n",
       "      <td>3</td>\n",
       "      <td>9</td>\n",
       "      <td>2891.012822</td>\n",
       "      <td>1</td>\n",
       "      <td>23.0</td>\n",
       "      <td>ultra</td>\n",
       "      <td>6</td>\n",
       "      <td>0</td>\n",
       "      <td>199</td>\n",
       "    </tr>\n",
       "    <tr>\n",
       "      <th>19</th>\n",
       "      <td>3</td>\n",
       "      <td>12</td>\n",
       "      <td>2593.381928</td>\n",
       "      <td>1</td>\n",
       "      <td>13.0</td>\n",
       "      <td>ultra</td>\n",
       "      <td>6</td>\n",
       "      <td>0</td>\n",
       "      <td>199</td>\n",
       "    </tr>\n",
       "  </tbody>\n",
       "</table>\n",
       "</div>"
      ],
      "text/plain": [
       "    user_id  month  total_distance  n_of_rides  total_duration  \\\n",
       "0         1      1     7027.511294           2            42.0   \n",
       "1         1      4      754.159807           1             7.0   \n",
       "2         1      8     6723.470560           2            46.0   \n",
       "3         1     10     5809.911100           2            32.0   \n",
       "4         1     11     7003.499363           3            56.0   \n",
       "5         1     12     6751.629942           2            28.0   \n",
       "6         2      3    10187.723006           3            63.0   \n",
       "7         2      4     6164.381824           2            40.0   \n",
       "8         2      6     3255.338202           1            14.0   \n",
       "9         2      7     6780.722964           2            48.0   \n",
       "10        2      8      923.007439           1             7.0   \n",
       "11        2     10     2824.636598           1            19.0   \n",
       "12        2     12     3828.248580           1            12.0   \n",
       "13        3      1     3061.777147           1            13.0   \n",
       "14        3      2     5421.152016           2            39.0   \n",
       "15        3      4     2956.651632           1            21.0   \n",
       "16        3      5     9064.026918           3            63.0   \n",
       "17        3      7    10919.595403           3            67.0   \n",
       "18        3      9     2891.012822           1            23.0   \n",
       "19        3     12     2593.381928           1            13.0   \n",
       "\n",
       "   subscription_type  minute_price  start_ride_price  subscription_fee  \n",
       "0              ultra             6                 0               199  \n",
       "1              ultra             6                 0               199  \n",
       "2              ultra             6                 0               199  \n",
       "3              ultra             6                 0               199  \n",
       "4              ultra             6                 0               199  \n",
       "5              ultra             6                 0               199  \n",
       "6              ultra             6                 0               199  \n",
       "7              ultra             6                 0               199  \n",
       "8              ultra             6                 0               199  \n",
       "9              ultra             6                 0               199  \n",
       "10             ultra             6                 0               199  \n",
       "11             ultra             6                 0               199  \n",
       "12             ultra             6                 0               199  \n",
       "13             ultra             6                 0               199  \n",
       "14             ultra             6                 0               199  \n",
       "15             ultra             6                 0               199  \n",
       "16             ultra             6                 0               199  \n",
       "17             ultra             6                 0               199  \n",
       "18             ultra             6                 0               199  \n",
       "19             ultra             6                 0               199  "
      ]
     },
     "execution_count": 40,
     "metadata": {},
     "output_type": "execute_result"
    }
   ],
   "source": [
    "data_rounded = data.copy() #создадим копию датафрейма для внесения изменений, нужных для расчета\n",
    "data_rounded['duration'] = np.ceil(data_rounded['duration']) #округлим время поездки вверх\n",
    "\n",
    "data_by_user = data_rounded.groupby(['user_id', 'month']).agg({'distance':['sum', 'count'], 'duration':'sum',\\\n",
    "                'subscription_type':'first', 'minute_price':'first', 'start_ride_price': 'first', 'subscription_fee': 'first'})\n",
    "\n",
    "data_by_user.columns = ['total_distance', 'n_of_rides', 'total_duration', 'subscription_type', 'minute_price',\\\n",
    "                        'start_ride_price', 'subscription_fee']\n",
    "\n",
    "data_by_user.reset_index(inplace=True)\n",
    "\n",
    "data_by_user.head(20)"
   ]
  },
  {
   "cell_type": "markdown",
   "id": "2a0d057e-9d41-41dc-9780-2e125aa70efd",
   "metadata": {},
   "source": [
    "Проверим полученные данные на предмет пропущенных значений."
   ]
  },
  {
   "cell_type": "code",
   "execution_count": 41,
   "id": "4831f996-f396-4a89-bb7c-799f91cd2a34",
   "metadata": {},
   "outputs": [
    {
     "data": {
      "text/plain": [
       "user_id              0\n",
       "month                0\n",
       "total_distance       0\n",
       "n_of_rides           0\n",
       "total_duration       0\n",
       "subscription_type    0\n",
       "minute_price         0\n",
       "start_ride_price     0\n",
       "subscription_fee     0\n",
       "dtype: int64"
      ]
     },
     "execution_count": 41,
     "metadata": {},
     "output_type": "execute_result"
    }
   ],
   "source": [
    "data_by_user.isnull().sum()"
   ]
  },
  {
   "cell_type": "markdown",
   "id": "e93ce6ec-be6d-4c50-9ec0-b2d13632b323",
   "metadata": {},
   "source": [
    "Теперь, когда мы убедились в отсутствии пропусков, рассчитаем помесячную выручку для каждого пользователя."
   ]
  },
  {
   "cell_type": "code",
   "execution_count": 42,
   "id": "c3e8e236-6d0f-437f-a3f7-1b26d5c1d4ec",
   "metadata": {},
   "outputs": [
    {
     "data": {
      "text/html": [
       "<div>\n",
       "<style scoped>\n",
       "    .dataframe tbody tr th:only-of-type {\n",
       "        vertical-align: middle;\n",
       "    }\n",
       "\n",
       "    .dataframe tbody tr th {\n",
       "        vertical-align: top;\n",
       "    }\n",
       "\n",
       "    .dataframe thead th {\n",
       "        text-align: right;\n",
       "    }\n",
       "</style>\n",
       "<table border=\"1\" class=\"dataframe\">\n",
       "  <thead>\n",
       "    <tr style=\"text-align: right;\">\n",
       "      <th></th>\n",
       "      <th>user_id</th>\n",
       "      <th>month</th>\n",
       "      <th>total_distance</th>\n",
       "      <th>n_of_rides</th>\n",
       "      <th>total_duration</th>\n",
       "      <th>subscription_type</th>\n",
       "      <th>minute_price</th>\n",
       "      <th>start_ride_price</th>\n",
       "      <th>subscription_fee</th>\n",
       "      <th>monthly_income</th>\n",
       "    </tr>\n",
       "  </thead>\n",
       "  <tbody>\n",
       "    <tr>\n",
       "      <th>2941</th>\n",
       "      <td>452</td>\n",
       "      <td>4</td>\n",
       "      <td>9028.591624</td>\n",
       "      <td>3</td>\n",
       "      <td>57.0</td>\n",
       "      <td>ultra</td>\n",
       "      <td>6</td>\n",
       "      <td>0</td>\n",
       "      <td>199</td>\n",
       "      <td>541.0</td>\n",
       "    </tr>\n",
       "    <tr>\n",
       "      <th>5346</th>\n",
       "      <td>803</td>\n",
       "      <td>6</td>\n",
       "      <td>8625.882843</td>\n",
       "      <td>3</td>\n",
       "      <td>34.0</td>\n",
       "      <td>free</td>\n",
       "      <td>8</td>\n",
       "      <td>50</td>\n",
       "      <td>0</td>\n",
       "      <td>422.0</td>\n",
       "    </tr>\n",
       "    <tr>\n",
       "      <th>4857</th>\n",
       "      <td>739</td>\n",
       "      <td>5</td>\n",
       "      <td>3710.812442</td>\n",
       "      <td>1</td>\n",
       "      <td>25.0</td>\n",
       "      <td>free</td>\n",
       "      <td>8</td>\n",
       "      <td>50</td>\n",
       "      <td>0</td>\n",
       "      <td>250.0</td>\n",
       "    </tr>\n",
       "    <tr>\n",
       "      <th>7482</th>\n",
       "      <td>1066</td>\n",
       "      <td>1</td>\n",
       "      <td>2809.064949</td>\n",
       "      <td>1</td>\n",
       "      <td>19.0</td>\n",
       "      <td>free</td>\n",
       "      <td>8</td>\n",
       "      <td>50</td>\n",
       "      <td>0</td>\n",
       "      <td>202.0</td>\n",
       "    </tr>\n",
       "    <tr>\n",
       "      <th>8744</th>\n",
       "      <td>1219</td>\n",
       "      <td>5</td>\n",
       "      <td>3990.563878</td>\n",
       "      <td>2</td>\n",
       "      <td>26.0</td>\n",
       "      <td>free</td>\n",
       "      <td>8</td>\n",
       "      <td>50</td>\n",
       "      <td>0</td>\n",
       "      <td>308.0</td>\n",
       "    </tr>\n",
       "    <tr>\n",
       "      <th>3829</th>\n",
       "      <td>585</td>\n",
       "      <td>11</td>\n",
       "      <td>7462.539382</td>\n",
       "      <td>2</td>\n",
       "      <td>38.0</td>\n",
       "      <td>ultra</td>\n",
       "      <td>6</td>\n",
       "      <td>0</td>\n",
       "      <td>199</td>\n",
       "      <td>427.0</td>\n",
       "    </tr>\n",
       "    <tr>\n",
       "      <th>4529</th>\n",
       "      <td>699</td>\n",
       "      <td>8</td>\n",
       "      <td>7018.324143</td>\n",
       "      <td>2</td>\n",
       "      <td>45.0</td>\n",
       "      <td>ultra</td>\n",
       "      <td>6</td>\n",
       "      <td>0</td>\n",
       "      <td>199</td>\n",
       "      <td>469.0</td>\n",
       "    </tr>\n",
       "    <tr>\n",
       "      <th>11227</th>\n",
       "      <td>1523</td>\n",
       "      <td>7</td>\n",
       "      <td>4054.727558</td>\n",
       "      <td>1</td>\n",
       "      <td>32.0</td>\n",
       "      <td>free</td>\n",
       "      <td>8</td>\n",
       "      <td>50</td>\n",
       "      <td>0</td>\n",
       "      <td>306.0</td>\n",
       "    </tr>\n",
       "    <tr>\n",
       "      <th>1421</th>\n",
       "      <td>220</td>\n",
       "      <td>1</td>\n",
       "      <td>4519.479089</td>\n",
       "      <td>2</td>\n",
       "      <td>24.0</td>\n",
       "      <td>ultra</td>\n",
       "      <td>6</td>\n",
       "      <td>0</td>\n",
       "      <td>199</td>\n",
       "      <td>343.0</td>\n",
       "    </tr>\n",
       "    <tr>\n",
       "      <th>3308</th>\n",
       "      <td>509</td>\n",
       "      <td>3</td>\n",
       "      <td>2916.843079</td>\n",
       "      <td>1</td>\n",
       "      <td>11.0</td>\n",
       "      <td>ultra</td>\n",
       "      <td>6</td>\n",
       "      <td>0</td>\n",
       "      <td>199</td>\n",
       "      <td>265.0</td>\n",
       "    </tr>\n",
       "  </tbody>\n",
       "</table>\n",
       "</div>"
      ],
      "text/plain": [
       "       user_id  month  total_distance  n_of_rides  total_duration  \\\n",
       "2941       452      4     9028.591624           3            57.0   \n",
       "5346       803      6     8625.882843           3            34.0   \n",
       "4857       739      5     3710.812442           1            25.0   \n",
       "7482      1066      1     2809.064949           1            19.0   \n",
       "8744      1219      5     3990.563878           2            26.0   \n",
       "3829       585     11     7462.539382           2            38.0   \n",
       "4529       699      8     7018.324143           2            45.0   \n",
       "11227     1523      7     4054.727558           1            32.0   \n",
       "1421       220      1     4519.479089           2            24.0   \n",
       "3308       509      3     2916.843079           1            11.0   \n",
       "\n",
       "      subscription_type  minute_price  start_ride_price  subscription_fee  \\\n",
       "2941              ultra             6                 0               199   \n",
       "5346               free             8                50                 0   \n",
       "4857               free             8                50                 0   \n",
       "7482               free             8                50                 0   \n",
       "8744               free             8                50                 0   \n",
       "3829              ultra             6                 0               199   \n",
       "4529              ultra             6                 0               199   \n",
       "11227              free             8                50                 0   \n",
       "1421              ultra             6                 0               199   \n",
       "3308              ultra             6                 0               199   \n",
       "\n",
       "       monthly_income  \n",
       "2941            541.0  \n",
       "5346            422.0  \n",
       "4857            250.0  \n",
       "7482            202.0  \n",
       "8744            308.0  \n",
       "3829            427.0  \n",
       "4529            469.0  \n",
       "11227           306.0  \n",
       "1421            343.0  \n",
       "3308            265.0  "
      ]
     },
     "execution_count": 42,
     "metadata": {},
     "output_type": "execute_result"
    }
   ],
   "source": [
    "data_by_user['monthly_income'] = data_by_user['start_ride_price'] * data_by_user['n_of_rides'] +\\\n",
    "                                data_by_user['minute_price'] * data_by_user['total_duration'] + data_by_user['subscription_fee']\n",
    "data_by_user.sample(10)"
   ]
  },
  {
   "cell_type": "markdown",
   "id": "41545ac0",
   "metadata": {},
   "source": [
    "## Проверка гипотез"
   ]
  },
  {
   "cell_type": "markdown",
   "id": "fc8daed5-691d-4244-85a1-3a42a6326403",
   "metadata": {},
   "source": [
    "Для проверки гипотез установим уровень статистической значимости в 5%."
   ]
  },
  {
   "cell_type": "code",
   "execution_count": 43,
   "id": "c8b21294-274b-4634-939b-684cddf8243b",
   "metadata": {},
   "outputs": [],
   "source": [
    "alpha = 0.01"
   ]
  },
  {
   "cell_type": "markdown",
   "id": "2f1a21c8-bffe-4480-9153-0adcc66ac7cd",
   "metadata": {},
   "source": [
    "### 1. Пользователи с подпиской тратят больше времени на поездки"
   ]
  },
  {
   "cell_type": "markdown",
   "id": "131aec7c-586e-49d5-bc3b-e8080a9682aa",
   "metadata": {},
   "source": [
    "Данные в нашем распоряжении - это выборка о некоторых пользователях из нескольких городов из общей совокупности данных сервиса. Данные о пользователях без подписки в датафрейме `without_subscription` можно считать выборкой из генеральной совокупности пользователей сервиса без подписки, а данные о пользователях с подпиской в датафрейме `with_subscription` - выборкой из генеральной совокупности пользователей сервиса с подпиской.\n",
    "\n",
    "\n",
    "Поэтому для проверки данной гипотезы проведем односторонний t-test среднего двух независимых генеральных совокупностей по взятым из них выборкам.\n",
    "\n",
    "* Нулевая гипотеза: Пользователи в среднем тратят одинаковое количество времени на поездки вне зависимости от наличия подписки.\n",
    "* Альтернативная гипотеза: Пользователи с подпиской тратят больше времени на поездки, чем пользователи без подписки."
   ]
  },
  {
   "cell_type": "code",
   "execution_count": 44,
   "id": "e23daf3c-8d22-458a-bb9d-9cff3eac8539",
   "metadata": {},
   "outputs": [
    {
     "name": "stdout",
     "output_type": "stream",
     "text": [
      "p-значение: 1.2804098316645618e-34\n",
      "Отвергаем нулевую гипотезу\n"
     ]
    }
   ],
   "source": [
    "hyp1 = st.ttest_ind(with_subscription['duration'], without_subscription['duration'], alternative='greater')\n",
    "\n",
    "print('p-значение:', hyp1.pvalue)\n",
    "\n",
    "if hyp1.pvalue < alpha:\n",
    "    print('Отвергаем нулевую гипотезу')\n",
    "else:\n",
    "    print('Не получилось отвергнуть нулевую гипотезу') "
   ]
  },
  {
   "cell_type": "markdown",
   "id": "c915888c-0601-4655-91e8-01c4b4fd654b",
   "metadata": {},
   "source": [
    "В результате проведения теста мы отвергаем нулевую гипотезу. Следовательно, есть достаточно статистических оснований полагать, что пользователи с подпиской тратят больше времени на поездки."
   ]
  },
  {
   "cell_type": "markdown",
   "id": "cd585211-c463-40e0-99f7-c004c83953b0",
   "metadata": {},
   "source": [
    "### 2. Среднее расстояние, которое проезжают пользователи с подпиской за одну поездку, превышает 3130 метров"
   ]
  },
  {
   "cell_type": "markdown",
   "id": "e2fbf4a0-5901-4fcd-9713-87321517db1e",
   "metadata": {},
   "source": [
    "В данном случае нас интересует генеральная совокупность пользователей с подпиской, которой соответствует выборка `with_subscription`.\n",
    "\n",
    "Для проверки данной гипотезы проведем односторонний t-test среднего генеральной совокупности пользователей сервиса с подпиской.\n",
    "\n",
    "* Нулевая гипотеза: Среднее расстояние, которое проезжают пользователи с подпиской за одну поездку, составляет 3130 метров.\n",
    "* Альтернативная гипотеза: Среднее расстояние, которое проезжают пользователи с подпиской за одну поездку, превышает 3130 метров."
   ]
  },
  {
   "cell_type": "code",
   "execution_count": 45,
   "id": "7b9af00e-1a69-4be7-80fc-5bd32f2db6b2",
   "metadata": {},
   "outputs": [
    {
     "name": "stdout",
     "output_type": "stream",
     "text": [
      "p-значение: 0.9195368847849785\n",
      "Не получилось отвергнуть нулевую гипотезу\n"
     ]
    }
   ],
   "source": [
    "target_distance = 3130\n",
    "\n",
    "hyp2 = st.ttest_1samp(with_subscription['distance'], target_distance, alternative='greater')\n",
    "\n",
    "print('p-значение:', hyp2.pvalue)\n",
    "\n",
    "if hyp2.pvalue < alpha:\n",
    "    print('Отвергаем нулевую гипотезу')\n",
    "else:\n",
    "    print('Не получилось отвергнуть нулевую гипотезу') "
   ]
  },
  {
   "cell_type": "markdown",
   "id": "c5e4e3b9-43b7-452b-b110-792ad161ecac",
   "metadata": {},
   "source": [
    "В результате проведения теста не получилось отвергнуть нулевую гипотезу. Следовательно, нет достаточно статистических оснований полагать, что среднее расстояние, которое проезжают пользователи с подпиской за одну поездку, превышает 3130 метров.\n",
    "\n",
    "Соответственно, самокаты, которые предоставляет сервис, оптимальные с точки зрения износа."
   ]
  },
  {
   "cell_type": "markdown",
   "id": "eb04175a-433c-4508-9b6e-cfa53d9323aa",
   "metadata": {},
   "source": [
    "### 3. Помесячная выручка от пользователей с подпиской выше, чем выручка от пользователей без подписки"
   ]
  },
  {
   "cell_type": "markdown",
   "id": "456cdbea-914c-4b07-a882-73afa75374e1",
   "metadata": {},
   "source": [
    "В данном случае мы будем использовать агрегированные данные по каждому пользователю в датафреме `data_by_user` для сравнения средней помесячной выручки генеральной совокупности пользователей с подпиской и генеральной совокупности пользователей без нее.\n",
    "\n",
    "Для этого нужно будет разделить датафрейм на данные о пользователях с подпиской и без нее, а затем провести односторонний t-test среднего двух независимых генеральных совокупностей по взятым из них выборкам.\n",
    "\n",
    "* Нулевая гипотеза: Помесячная выручка в среднем одинаковая от пользователей с подпиской и от пользователей без нее.\n",
    "* Альтернативная гипотеза: Помесячная выручка от пользователей с подпиской выше, чем выручка от пользователей без подписки."
   ]
  },
  {
   "cell_type": "code",
   "execution_count": 46,
   "id": "623555f8-106b-4558-9377-bdf3de640398",
   "metadata": {},
   "outputs": [
    {
     "name": "stdout",
     "output_type": "stream",
     "text": [
      "p-значение: 1.8850394384715216e-31\n",
      "Отвергаем нулевую гипотезу\n"
     ]
    }
   ],
   "source": [
    "data_by_user_with_subscription = data_by_user.query('subscription_type == \"ultra\"')\n",
    "\n",
    "data_by_user_without_subscription = data_by_user.query('subscription_type == \"free\"')\n",
    "\n",
    "hyp3 = st.ttest_ind(data_by_user_with_subscription['monthly_income'], data_by_user_without_subscription['monthly_income'],\\\n",
    "                    alternative='greater')\n",
    "\n",
    "print('p-значение:', hyp3.pvalue)\n",
    "\n",
    "if hyp3.pvalue < alpha:\n",
    "    print('Отвергаем нулевую гипотезу')\n",
    "else:\n",
    "    print('Не получилось отвергнуть нулевую гипотезу') "
   ]
  },
  {
   "cell_type": "markdown",
   "id": "a3db27c7-1b67-46a4-b08e-977e3c23ce54",
   "metadata": {},
   "source": [
    "В результате проведения теста мы отвергаем нулевую гипотезу. Следовательно, есть достаточно статистических оснований полагать, что помесячная выручка от пользователей с подпиской выше, чем выручка от пользователей без подписки.\n",
    "\n",
    "В связи с этим, целесообразно будет продвигать подписку среди пользователей с целью увеличения числа подписчиков."
   ]
  },
  {
   "cell_type": "markdown",
   "id": "653a37ff-91c3-4c67-86bf-0b86d48b9a1a",
   "metadata": {},
   "source": [
    "### 4. Проведение теста по результатам обновления сервера"
   ]
  },
  {
   "cell_type": "markdown",
   "id": "033e155f-1d12-457f-8398-ce820bfe02da",
   "metadata": {},
   "source": [
    "Техническая команда сервиса обновила сервера, с которыми взаимодействует мобильное приложение, с целью снижения количества обращений в техподдержку.\n",
    "\n",
    "В качестве необходимых данных предоставлен файл, который содержит для каждого пользователя данные о количестве обращений до обновления и после него.\n",
    "\n",
    "Для проверки гипотезы технической команды необходимо будет провести двусторонний t-test среднего двух зависимых генеральных совокупностей по взятым из них выборкам. Выборки в этом случае будут парными. Парная выборка означает, что количество обращений в поддержку измеряется дважды (до и после обновления) для одних и тех же пользователей.\n",
    "\n",
    "* Нулевая гипотеза: В среднем количество обращений в техподдержу до и после обновления одинаковое.\n",
    "* Альтернативная гипотеза: Количество обращений в техподдержку значимо снизилось после обновления.\n",
    "\n",
    "Код выполнения будет примерно следующим:"
   ]
  },
  {
   "cell_type": "markdown",
   "id": "923ec56c-cd54-4c85-acaf-93e5fe63a18e",
   "metadata": {},
   "source": [
    "hyp4 = st.ttest_rel(*данные до обновления*, *данные после обновления*, alternative='less')\n",
    "\n",
    "print('p-значение:', hyp4.pvalue)\n",
    "\n",
    "if hyp4.pvalue < alpha:\n",
    "    print('Отвергаем нулевую гипотезу')\n",
    "    \n",
    "else:\n",
    "    print('Не получилось отвергнуть нулевую гипотезу') "
   ]
  },
  {
   "cell_type": "markdown",
   "id": "e2bf61a0-0657-4c23-b9cf-2078d7f0c76a",
   "metadata": {},
   "source": [
    "## Общий вывод"
   ]
  },
  {
   "cell_type": "markdown",
   "id": "224fba78-7f58-4daf-9ac7-727234df9863",
   "metadata": {},
   "source": [
    "Для проведения исследования были использованы датафреймы с данными о более, чем 1.5 тысячах пользователей, и более, чем 18 тысячах поездок, что является достаточно большой базой для проверки гипотез и формирования выводов.\n",
    "\n",
    "В ходе предобработки данных были изменены типы данных, добавлены столбцы с дополнительной информацией и удалены дубликаты пользователей.\n",
    "\n",
    "В процессе исследовательского анализа мы убедились в качестве данных - количественные данные имеют нормальное распределение, а пользователи равномерно распределены между городами и типами подписок.\n",
    "\n",
    "Далее мы объединили датафреймы в один и выделили в нем пользователей с подпиской и без нее. Оказалось, что в среднем расстояние и время поездки в этих категориях одинаковое, но пользователи с подпиской с большей гибкостью используют сервис и выбирают самокат как для долгих, так и для коротких поездок. Эту закономерность можно использовать при продвижении подписки среди пользователей.\n",
    "\n",
    "После этого мы подсчитали помесячную выручку от каждого пользователя и приступили к проверке гипотез.\n",
    "\n",
    "В результате проверки гипотез мы выяснили, что пользователи с подпиской тратят больше времени на поездки и приносят больше ежемесячной выручки, чем пользователи без нее. Следовательно для бизнеса будет целесообразно продвигать подписку среди пользователей с целью увеличения числа подписчиков."
   ]
  }
 ],
 "metadata": {
  "ExecuteTimeLog": [
   {
    "duration": 1014,
    "start_time": "2023-12-10T11:29:38.127Z"
   },
   {
    "duration": 69,
    "start_time": "2023-12-10T11:29:39.143Z"
   },
   {
    "duration": 9,
    "start_time": "2023-12-10T11:29:39.214Z"
   },
   {
    "duration": 27,
    "start_time": "2023-12-10T11:29:39.225Z"
   },
   {
    "duration": 159,
    "start_time": "2023-12-10T11:29:39.253Z"
   },
   {
    "duration": 9,
    "start_time": "2023-12-10T11:29:39.414Z"
   },
   {
    "duration": 21,
    "start_time": "2023-12-10T11:29:39.425Z"
   },
   {
    "duration": 109,
    "start_time": "2023-12-10T11:29:39.447Z"
   },
   {
    "duration": 9,
    "start_time": "2023-12-10T11:29:39.557Z"
   },
   {
    "duration": 27,
    "start_time": "2023-12-10T11:29:39.569Z"
   },
   {
    "duration": 24,
    "start_time": "2023-12-10T11:29:39.598Z"
   },
   {
    "duration": 19,
    "start_time": "2023-12-10T11:29:39.624Z"
   },
   {
    "duration": 17,
    "start_time": "2023-12-10T11:29:39.644Z"
   },
   {
    "duration": 29,
    "start_time": "2023-12-10T11:29:39.662Z"
   },
   {
    "duration": 15,
    "start_time": "2023-12-10T11:29:39.692Z"
   },
   {
    "duration": 20,
    "start_time": "2023-12-10T11:29:39.709Z"
   },
   {
    "duration": 20,
    "start_time": "2023-12-10T11:29:39.730Z"
   },
   {
    "duration": 26,
    "start_time": "2023-12-10T11:29:39.751Z"
   },
   {
    "duration": 29,
    "start_time": "2023-12-10T11:29:39.778Z"
   },
   {
    "duration": 20,
    "start_time": "2023-12-10T11:29:39.808Z"
   },
   {
    "duration": 30,
    "start_time": "2023-12-10T11:29:39.830Z"
   },
   {
    "duration": 23,
    "start_time": "2023-12-10T11:29:39.861Z"
   },
   {
    "duration": 164,
    "start_time": "2023-12-10T11:29:39.885Z"
   },
   {
    "duration": 5,
    "start_time": "2023-12-10T11:29:40.051Z"
   },
   {
    "duration": 80,
    "start_time": "2023-12-10T11:29:40.057Z"
   },
   {
    "duration": 165,
    "start_time": "2023-12-10T11:29:40.139Z"
   },
   {
    "duration": 242,
    "start_time": "2023-12-10T11:29:40.305Z"
   },
   {
    "duration": 252,
    "start_time": "2023-12-10T11:29:40.550Z"
   },
   {
    "duration": 9,
    "start_time": "2023-12-10T11:29:40.803Z"
   },
   {
    "duration": 30,
    "start_time": "2023-12-10T11:29:40.814Z"
   },
   {
    "duration": 61,
    "start_time": "2023-12-10T11:29:40.845Z"
   },
   {
    "duration": 15,
    "start_time": "2023-12-10T11:29:40.908Z"
   },
   {
    "duration": 33,
    "start_time": "2023-12-10T11:29:40.925Z"
   },
   {
    "duration": 27,
    "start_time": "2023-12-10T11:29:40.960Z"
   },
   {
    "duration": 31,
    "start_time": "2023-12-10T11:29:40.989Z"
   },
   {
    "duration": 498,
    "start_time": "2023-12-10T11:29:41.022Z"
   },
   {
    "duration": 445,
    "start_time": "2023-12-10T11:29:41.521Z"
   },
   {
    "duration": 36,
    "start_time": "2023-12-10T11:29:41.967Z"
   },
   {
    "duration": 14,
    "start_time": "2023-12-10T11:29:42.004Z"
   },
   {
    "duration": 2,
    "start_time": "2023-12-10T11:29:42.019Z"
   },
   {
    "duration": 23,
    "start_time": "2023-12-10T11:29:42.022Z"
   },
   {
    "duration": 19,
    "start_time": "2023-12-10T11:29:42.047Z"
   },
   {
    "duration": 22,
    "start_time": "2023-12-10T11:29:42.067Z"
   },
   {
    "duration": 1056,
    "start_time": "2023-12-10T11:34:53.080Z"
   },
   {
    "duration": 51,
    "start_time": "2023-12-10T11:34:54.138Z"
   },
   {
    "duration": 10,
    "start_time": "2023-12-10T11:34:54.190Z"
   },
   {
    "duration": 33,
    "start_time": "2023-12-10T11:34:54.202Z"
   },
   {
    "duration": 60,
    "start_time": "2023-12-10T11:34:54.236Z"
   },
   {
    "duration": 10,
    "start_time": "2023-12-10T11:34:54.298Z"
   },
   {
    "duration": 28,
    "start_time": "2023-12-10T11:34:54.309Z"
   },
   {
    "duration": 39,
    "start_time": "2023-12-10T11:34:54.338Z"
   },
   {
    "duration": 9,
    "start_time": "2023-12-10T11:34:54.379Z"
   },
   {
    "duration": 8,
    "start_time": "2023-12-10T11:34:54.390Z"
   },
   {
    "duration": 9,
    "start_time": "2023-12-10T11:34:54.399Z"
   },
   {
    "duration": 4,
    "start_time": "2023-12-10T11:34:54.410Z"
   },
   {
    "duration": 12,
    "start_time": "2023-12-10T11:34:54.416Z"
   },
   {
    "duration": 25,
    "start_time": "2023-12-10T11:34:54.429Z"
   },
   {
    "duration": 9,
    "start_time": "2023-12-10T11:34:54.455Z"
   },
   {
    "duration": 9,
    "start_time": "2023-12-10T11:34:54.465Z"
   },
   {
    "duration": 22,
    "start_time": "2023-12-10T11:34:54.475Z"
   },
   {
    "duration": 39,
    "start_time": "2023-12-10T11:34:54.498Z"
   },
   {
    "duration": 27,
    "start_time": "2023-12-10T11:34:54.538Z"
   },
   {
    "duration": 21,
    "start_time": "2023-12-10T11:34:54.566Z"
   },
   {
    "duration": 11,
    "start_time": "2023-12-10T11:34:54.588Z"
   },
   {
    "duration": 15,
    "start_time": "2023-12-10T11:34:54.601Z"
   },
   {
    "duration": 144,
    "start_time": "2023-12-10T11:34:54.617Z"
   },
   {
    "duration": 5,
    "start_time": "2023-12-10T11:34:54.763Z"
   },
   {
    "duration": 94,
    "start_time": "2023-12-10T11:34:54.769Z"
   },
   {
    "duration": 159,
    "start_time": "2023-12-10T11:34:54.864Z"
   },
   {
    "duration": 242,
    "start_time": "2023-12-10T11:34:55.024Z"
   },
   {
    "duration": 273,
    "start_time": "2023-12-10T11:34:55.268Z"
   },
   {
    "duration": 8,
    "start_time": "2023-12-10T11:34:55.542Z"
   },
   {
    "duration": 11,
    "start_time": "2023-12-10T11:34:55.552Z"
   },
   {
    "duration": 12,
    "start_time": "2023-12-10T11:34:55.564Z"
   },
   {
    "duration": 27,
    "start_time": "2023-12-10T11:34:55.577Z"
   },
   {
    "duration": 3,
    "start_time": "2023-12-10T11:34:55.606Z"
   },
   {
    "duration": 25,
    "start_time": "2023-12-10T11:34:55.610Z"
   },
   {
    "duration": 13,
    "start_time": "2023-12-10T11:34:55.637Z"
   },
   {
    "duration": 497,
    "start_time": "2023-12-10T11:34:55.651Z"
   },
   {
    "duration": 436,
    "start_time": "2023-12-10T11:34:56.150Z"
   },
   {
    "duration": 39,
    "start_time": "2023-12-10T11:34:56.587Z"
   },
   {
    "duration": 14,
    "start_time": "2023-12-10T11:34:56.627Z"
   },
   {
    "duration": 38,
    "start_time": "2023-12-10T11:34:56.642Z"
   },
   {
    "duration": 10,
    "start_time": "2023-12-10T11:34:56.681Z"
   },
   {
    "duration": 10,
    "start_time": "2023-12-10T11:34:56.692Z"
   },
   {
    "duration": 11,
    "start_time": "2023-12-10T11:34:56.704Z"
   },
   {
    "duration": 1007,
    "start_time": "2023-12-10T11:39:13.635Z"
   },
   {
    "duration": 64,
    "start_time": "2023-12-10T11:39:14.643Z"
   },
   {
    "duration": 11,
    "start_time": "2023-12-10T11:39:14.708Z"
   },
   {
    "duration": 11,
    "start_time": "2023-12-10T11:39:14.721Z"
   },
   {
    "duration": 59,
    "start_time": "2023-12-10T11:39:14.733Z"
   },
   {
    "duration": 11,
    "start_time": "2023-12-10T11:39:14.793Z"
   },
   {
    "duration": 12,
    "start_time": "2023-12-10T11:39:14.805Z"
   },
   {
    "duration": 66,
    "start_time": "2023-12-10T11:39:14.819Z"
   },
   {
    "duration": 13,
    "start_time": "2023-12-10T11:39:14.887Z"
   },
   {
    "duration": 9,
    "start_time": "2023-12-10T11:39:14.904Z"
   },
   {
    "duration": 6,
    "start_time": "2023-12-10T11:39:14.914Z"
   },
   {
    "duration": 5,
    "start_time": "2023-12-10T11:39:14.921Z"
   },
   {
    "duration": 6,
    "start_time": "2023-12-10T11:39:14.928Z"
   },
   {
    "duration": 9,
    "start_time": "2023-12-10T11:39:14.936Z"
   },
   {
    "duration": 5,
    "start_time": "2023-12-10T11:39:14.946Z"
   },
   {
    "duration": 6,
    "start_time": "2023-12-10T11:39:14.952Z"
   },
   {
    "duration": 5,
    "start_time": "2023-12-10T11:39:14.959Z"
   },
   {
    "duration": 5,
    "start_time": "2023-12-10T11:39:14.999Z"
   },
   {
    "duration": 57,
    "start_time": "2023-12-10T11:39:15.006Z"
   },
   {
    "duration": 28,
    "start_time": "2023-12-10T11:39:15.065Z"
   },
   {
    "duration": 24,
    "start_time": "2023-12-10T11:39:15.095Z"
   },
   {
    "duration": 41,
    "start_time": "2023-12-10T11:39:15.120Z"
   },
   {
    "duration": 163,
    "start_time": "2023-12-10T11:39:15.163Z"
   },
   {
    "duration": 4,
    "start_time": "2023-12-10T11:39:15.328Z"
   },
   {
    "duration": 91,
    "start_time": "2023-12-10T11:39:15.334Z"
   },
   {
    "duration": 167,
    "start_time": "2023-12-10T11:39:15.427Z"
   },
   {
    "duration": 267,
    "start_time": "2023-12-10T11:39:15.599Z"
   },
   {
    "duration": 242,
    "start_time": "2023-12-10T11:39:15.869Z"
   },
   {
    "duration": 8,
    "start_time": "2023-12-10T11:39:16.113Z"
   },
   {
    "duration": 9,
    "start_time": "2023-12-10T11:39:16.123Z"
   },
   {
    "duration": 17,
    "start_time": "2023-12-10T11:39:16.134Z"
   },
   {
    "duration": 11,
    "start_time": "2023-12-10T11:39:16.153Z"
   },
   {
    "duration": 34,
    "start_time": "2023-12-10T11:39:16.166Z"
   },
   {
    "duration": 15,
    "start_time": "2023-12-10T11:39:16.202Z"
   },
   {
    "duration": 47,
    "start_time": "2023-12-10T11:39:16.218Z"
   },
   {
    "duration": 589,
    "start_time": "2023-12-10T11:39:16.267Z"
   },
   {
    "duration": 459,
    "start_time": "2023-12-10T11:39:16.858Z"
   },
   {
    "duration": 35,
    "start_time": "2023-12-10T11:39:17.319Z"
   },
   {
    "duration": 17,
    "start_time": "2023-12-10T11:39:17.355Z"
   },
   {
    "duration": 3,
    "start_time": "2023-12-10T11:39:17.373Z"
   },
   {
    "duration": 7,
    "start_time": "2023-12-10T11:39:17.399Z"
   },
   {
    "duration": 5,
    "start_time": "2023-12-10T11:39:17.408Z"
   },
   {
    "duration": 10,
    "start_time": "2023-12-10T11:39:17.414Z"
   },
   {
    "duration": 7,
    "start_time": "2023-12-10T11:48:08.865Z"
   },
   {
    "duration": 5,
    "start_time": "2023-12-10T11:49:13.836Z"
   },
   {
    "duration": 6,
    "start_time": "2023-12-10T11:50:29.048Z"
   },
   {
    "duration": 7,
    "start_time": "2023-12-10T11:51:41.007Z"
   }
  ],
  "kernelspec": {
   "display_name": "Python 3 (ipykernel)",
   "language": "python",
   "name": "python3"
  },
  "language_info": {
   "codemirror_mode": {
    "name": "ipython",
    "version": 3
   },
   "file_extension": ".py",
   "mimetype": "text/x-python",
   "name": "python",
   "nbconvert_exporter": "python",
   "pygments_lexer": "ipython3",
   "version": "3.9.5"
  },
  "toc": {
   "base_numbering": 1,
   "nav_menu": {},
   "number_sections": true,
   "sideBar": true,
   "skip_h1_title": true,
   "title_cell": "Table of Contents",
   "title_sidebar": "Contents",
   "toc_cell": false,
   "toc_position": {},
   "toc_section_display": true,
   "toc_window_display": false
  }
 },
 "nbformat": 4,
 "nbformat_minor": 5
}
